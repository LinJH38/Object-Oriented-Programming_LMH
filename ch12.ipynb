{
 "cells": [
  {
   "cell_type": "code",
   "execution_count": 4,
   "id": "fe6352db-8639-4a16-ab15-4bfe207035e9",
   "metadata": {},
   "outputs": [
    {
     "name": "stdout",
     "output_type": "stream",
     "text": [
      "gole red long\n",
      "gole pink short\n",
      "gole black sqare\n"
     ]
    }
   ],
   "source": [
    "class block_factory:\n",
    "    def __init__(self, company, color, shape):\n",
    "        self.company = company\n",
    "        self.color = color\n",
    "        self.shape = shape\n",
    "    def make_pink(self):\n",
    "        self.color = 'pink'\n",
    "    def make_short(self):\n",
    "        self.shape = 'short'\n",
    "    def change_color(self, color):\n",
    "        self.color = color\n",
    "    def change_shape(self, shape):\n",
    "        self.shape = shape\n",
    "\n",
    "newblock = block_factory('gole', 'red', 'long')\n",
    "print(newblock.company, newblock.color, newblock.shape)\n",
    "newblock.make_pink()\n",
    "newblock.make_short()\n",
    "print(newblock.company, newblock.color, newblock.shape)\n",
    "newblock.change_color('black')\n",
    "newblock.change_shape('sqare')\n",
    "print(newblock.company, newblock.color, newblock.shape)"
   ]
  },
  {
   "cell_type": "code",
   "execution_count": 13,
   "id": "90f1aa48-c595-46b0-aec4-630cfb5dfd2b",
   "metadata": {},
   "outputs": [],
   "source": [
    "import tkinter as tk\n",
    "from tkinter import messagebox\n",
    "import itertools\n",
    "\n",
    "# 하드코딩된 사용자 정보\n",
    "VALID_USERNAME = 'dlawogus0808'\n",
    "VALID_PASSWORD = 'cms7741'\n",
    "\n",
    "# 로그인 창 생성\n",
    "root = tk.Tk()\n",
    "root.title('shut the fuck up and login')\n",
    "root.geometry(\"1080x600\")\n",
    "root.resizable(False, False)\n",
    "\n",
    "# 배경 색상\n",
    "root.configure(bg='#2c3e50')\n",
    "\n",
    "# 입력 프레임\n",
    "frame = tk.Frame(root, bg='#2c3e50')\n",
    "frame.pack(expand=True)\n",
    "\n",
    "# 아이디 레이블 및 입력\n",
    "tk.Label(frame, text='ID:', fg='white', bg='#2c3e50', font=('맑은 고딕', 12)).grid(row=0, column=0, pady=10, sticky='e')\n",
    "username_entry = tk.Entry(frame, font=('맑은 고딕', 12))\n",
    "username_entry.grid(row=0, column=1, pady=10)\n",
    "\n",
    "# 비밀번호 레이블 및 입력\n",
    "tk.Label(frame, text='PASSWORD:', fg='white', bg='#2c3e50', font=('맑은 고딕', 12)).grid(row=1, column=0, pady=10, sticky='e')\n",
    "password_entry = tk.Entry(frame, show='*', font=('맑은 고딕', 12))\n",
    "password_entry.grid(row=1, column=1, pady=10)\n",
    "\n",
    "# 로그인 처리 함수\n",
    "def attempt_login():\n",
    "    username = username_entry.get()\n",
    "    password = password_entry.get()\n",
    "    if username == VALID_USERNAME and password == VALID_PASSWORD:\n",
    "        show_success()\n",
    "    else:\n",
    "        messagebox.showerror('fuck off', \"you're not lin\")\n",
    "\n",
    "# 로그인 버튼\n",
    "login_btn = tk.Button(frame, text='login', command=attempt_login,\n",
    "                      font=('맑은 고딕', 12), bg='#1abc9c', fg='white', padx=10, pady=5)\n",
    "login_btn.grid(row=2, columnspan=2, pady=20)\n",
    "\n",
    "# 성공 화면 함수 NIGGA FUCKING GO BITCH LETS FUCKIN GO GO GO SHAY. LET'S DO THAT SHIT BRUG OMG BRUH. OPPAKHKSDH ㅣㅐ햐ㅜ ㅠㅅ=HKS. LOGNOKSDMEESSAGEDBOX EJ\n",
    "\n",
    "def show_success():\n",
    "    # 로그인 창 닫기\n",
    "    root.destroy()\n",
    "\n",
    "    # 새로운 성공 창 생성\n",
    "    success = tk.Tk()\n",
    "    success.title('Access Granted')\n",
    "    success.attributes('-fullscreen', True)\n",
    "    success.configure(bg='black')\n",
    "\n",
    "    # 환영 메시지 레이블\n",
    "    msg = tk.Label(success, text='🚀 NIGGA 🚀',\n",
    "                   font=('Arial', 24, 'bold'), bg='black')\n",
    "    msg.pack(expand=True)\n",
    "\n",
    "    # 레이블 색상 애니메이션\n",
    "    colors = ['#e74c3c', '#f1c40f', '#2ecc71', '#3498db', '#9b59b6']\n",
    "    for_cycle = itertools.cycle(colors)\n",
    "\n",
    "    def animate():\n",
    "        msg.config(fg=next(for_cycle))\n",
    "        success.after(300, animate)\n",
    "\n",
    "    animate()\n",
    "    success.mainloop()\n",
    "\n",
    "# 메인 루프\n",
    "root.mainloop()"
   ]
  },
  {
   "cell_type": "code",
   "execution_count": 22,
   "id": "bc991dcf-47ad-4641-82f5-6afbbfd06a9f",
   "metadata": {},
   "outputs": [
    {
     "name": "stdout",
     "output_type": "stream",
     "text": [
      "5\n",
      "-1\n",
      "6\n",
      "0.6666666666666666\n"
     ]
    }
   ],
   "source": [
    "#계산기 만들기\n",
    "class Calculator:\n",
    "    def plus(self, x, y):\n",
    "        print(x+y)\n",
    "    def minus(self, x, y):\n",
    "        print(x - y)\n",
    "    def multiply(self, x, y):\n",
    "        print(x*y)\n",
    "    def divide(self, x, y):\n",
    "        print(x / y)\n",
    "\n",
    "cal = Calculator()\n",
    "\n",
    "cal.plus(2,3)\n",
    "cal.minus(2,3)\n",
    "cal.multiply(2,3)\n",
    "cal.divide(2,3)\n"
   ]
  },
  {
   "cell_type": "code",
   "execution_count": 9,
   "id": "255cbf97-cc23-4628-957a-6ff60e4174cd",
   "metadata": {},
   "outputs": [
    {
     "name": "stdout",
     "output_type": "stream",
     "text": [
      "10 attack to gladiator\n",
      "warrior : 100       gladiator : 90\n",
      "warrior's defence and 5 attack to warrior\n",
      "warrior : 95       gladiator : 90\n"
     ]
    }
   ],
   "source": [
    "#prob. 캐릭터의 싸움\n",
    "class character_create:\n",
    "    def __init__(self, job, hp):\n",
    "        self.job = job\n",
    "        self.hp = hp\n",
    "    def attack(self,enemy):\n",
    "        enemy.hp -= 10\n",
    "        print(f\"{10} attack to {enemy.job}\")\n",
    "        print(self.job,':', self.hp,'     ',enemy.job,':', enemy.hp)\n",
    "    def defence(self, enemy):\n",
    "        self.hp -=5\n",
    "        print(f\"{self.job}'s defence and {5} attack to {self.job}\")\n",
    "        print(self.job,':', self.hp,'     ',enemy.job,':', enemy.hp)\n",
    "\n",
    "Me = character_create(\"warrior\", 100)\n",
    "You = character_create(\"gladiator\", 100)\n",
    "\n",
    "Me.attack(You)\n",
    "Me.defence(You)  \n"
   ]
  },
  {
   "cell_type": "code",
   "execution_count": 18,
   "id": "e4efc11d-ae73-412b-ab31-6d9d72494154",
   "metadata": {},
   "outputs": [
    {
     "name": "stdout",
     "output_type": "stream",
     "text": [
      "name:kim, salary:3000\n",
      "name:kim, salary:4200\n"
     ]
    }
   ],
   "source": [
    "#prob. 연봉계산하기\n",
    "class salary:\n",
    "    def __init__(self, name, year):\n",
    "        self.name = name #이름 변수\n",
    "        self.year = year #연차 변수\n",
    "        #self.salary = 0 #급여 변수인데, 얘 여기서 굳이 처음에 선언 안 해 줘도 됨\n",
    "    def year_salary(self): #method1: 추가로 받는 인자 없음. object 정보만 있으면 됨\n",
    "        if self.year <5:\n",
    "            self.salary = 3000+(self.year*100) #이런 곳에서 새로운 변수 salary 추가해줘도 작동함\n",
    "        elif self.year <10:\n",
    "            self.salary = 3500+(self.year*110)\n",
    "        else:\n",
    "            self.salary = 4000+(self.year*130)\n",
    "        print(f\"name:{self.name}, salary:{self.salary}\")\n",
    "    def degree(self, phd): #method2: 추가로 받는 인자 존재. object 정보에 phd 정보를 통해 추가 연봉 여부 확인\n",
    "        if(phd == 'phd'):\n",
    "            self.salary += 1200\n",
    "            print(f\"name:{self.name}, salary:{self.salary}\")\n",
    "    def __getattr__(self,anything): #얘는 참조 시, 속성이 존재하지 않을 때 호출\n",
    "        print('잘못된 값')\n",
    "\n",
    "kim = salary('kim', 0)\n",
    "kim.year_salary()\n",
    "kim.degree('phd')"
   ]
  },
  {
   "cell_type": "code",
   "execution_count": null,
   "id": "7b138da3-c5d5-4352-a2cb-bc58165a8ac9",
   "metadata": {},
   "outputs": [],
   "source": []
  },
  {
   "cell_type": "code",
   "execution_count": null,
   "id": "a028259a-397b-4f75-9425-1405df6caa9f",
   "metadata": {},
   "outputs": [],
   "source": []
  }
 ],
 "metadata": {
  "kernelspec": {
   "display_name": "Python 3 (ipykernel)",
   "language": "python",
   "name": "python3"
  },
  "language_info": {
   "codemirror_mode": {
    "name": "ipython",
    "version": 3
   },
   "file_extension": ".py",
   "mimetype": "text/x-python",
   "name": "python",
   "nbconvert_exporter": "python",
   "pygments_lexer": "ipython3",
   "version": "3.13.5"
  }
 },
 "nbformat": 4,
 "nbformat_minor": 5
}
