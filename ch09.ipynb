{
 "cells": [
  {
   "cell_type": "code",
   "execution_count": 1,
   "id": "d16d9666-b154-438a-aa5b-69dbb10c27c6",
   "metadata": {},
   "outputs": [
    {
     "name": "stdout",
     "output_type": "stream",
     "text": [
      "['False', 'None', 'True', 'and', 'as', 'assert', 'async', 'await', 'break', 'class', 'continue', 'def', 'del', 'elif', 'else', 'except', 'finally', 'for', 'from', 'global', 'if', 'import', 'in', 'is', 'lambda', 'nonlocal', 'not', 'or', 'pass', 'raise', 'return', 'try', 'while', 'with', 'yield']\n"
     ]
    }
   ],
   "source": [
    "import keyword\n",
    "print(keyword.kwlist)"
   ]
  },
  {
   "cell_type": "code",
   "execution_count": 8,
   "id": "de9ec3f3-3aa6-45eb-8a98-b2346b0d5d14",
   "metadata": {},
   "outputs": [],
   "source": [
    "def arthimatic(a, b, c):\n",
    "    print((a+b)*c)\n",
    "    return (a*b*c)"
   ]
  },
  {
   "cell_type": "code",
   "execution_count": 33,
   "id": "33f7c4ba-90ef-49e8-9df4-6ffc90dd9ffc",
   "metadata": {},
   "outputs": [
    {
     "name": "stdout",
     "output_type": "stream",
     "text": [
      "35\n",
      "60\n"
     ]
    },
    {
     "ename": "NameError",
     "evalue": "name 'sqrt' is not defined",
     "output_type": "error",
     "traceback": [
      "\u001b[1;31m---------------------------------------------------------------------------\u001b[0m",
      "\u001b[1;31mNameError\u001b[0m                                 Traceback (most recent call last)",
      "Cell \u001b[1;32mIn[33], line 3\u001b[0m\n\u001b[0;32m      1\u001b[0m b \u001b[38;5;241m=\u001b[39m arthimatic(\u001b[38;5;241m3\u001b[39m, \u001b[38;5;241m4\u001b[39m, \u001b[38;5;241m5\u001b[39m)\n\u001b[0;32m      2\u001b[0m \u001b[38;5;28mprint\u001b[39m(b)\n\u001b[1;32m----> 3\u001b[0m \u001b[38;5;28mprint\u001b[39m(sqrt(\u001b[38;5;241m16\u001b[39m))\n",
      "\u001b[1;31mNameError\u001b[0m: name 'sqrt' is not defined"
     ]
    }
   ],
   "source": [
    "b = arthimatic(3, 4, 5)\n",
    "print(b)"
   ]
  },
  {
   "cell_type": "code",
   "execution_count": 12,
   "id": "d8edba1e-5cab-495e-b0c1-e273a1da7328",
   "metadata": {},
   "outputs": [
    {
     "name": "stdout",
     "output_type": "stream",
     "text": [
      "anonymous's bmi: 0.035510204081632656\n"
     ]
    }
   ],
   "source": [
    "def bmi(weight, height, name = \"anonymous\"):\n",
    "    '''\n",
    "    it will present you a bmi\n",
    "    '''\n",
    "    b = weight / (height**2)\n",
    "    print(f\"{name}'s bmi: {b}\")\n",
    "    '''\n",
    "    made by lin\n",
    "    '''\n",
    "    #comeon <-#\n",
    "bmi(174, 70)"
   ]
  },
  {
   "cell_type": "code",
   "execution_count": 13,
   "id": "7da8ba60-8c87-4ecf-9013-a536deae3500",
   "metadata": {},
   "outputs": [
    {
     "name": "stdout",
     "output_type": "stream",
     "text": [
      "todaty's meeting are ('lin', 'za', 'xuan')\n"
     ]
    }
   ],
   "source": [
    "def attend(*people):\n",
    "    print(f\"todaty's meeting are {people}\")\n",
    "attend('lin', 'za', 'xuan')"
   ]
  },
  {
   "cell_type": "code",
   "execution_count": 28,
   "id": "64bd4f9b-9e67-46c2-95a5-0bf4ae665503",
   "metadata": {},
   "outputs": [
    {
     "name": "stdout",
     "output_type": "stream",
     "text": [
      "number of labor is 3.\n",
      "lin\n",
      "za\n",
      "xuan\n"
     ]
    }
   ],
   "source": [
    "#prob.교대 근무표 작성\n",
    "def labor(*people):\n",
    "    people = list(people)\n",
    "    n = len(people)\n",
    "    print(f\"number of labor is {n}.\")\n",
    "    for p in people:\n",
    "        print(p)\n",
    "\n",
    "labor('lin', 'za', 'xuan')"
   ]
  },
  {
   "cell_type": "code",
   "execution_count": 31,
   "id": "0fa8c7c3-89a0-42da-942b-bc81021ab743",
   "metadata": {},
   "outputs": [
    {
     "name": "stdout",
     "output_type": "stream",
     "text": [
      "today's menu\n",
      "만두\n",
      "불고기\n",
      "김치\n"
     ]
    }
   ],
   "source": [
    "#prob.오늘의 메뉴\n",
    "def todaymenu(*menu):\n",
    "    print(\"today's menu\")\n",
    "    for m in menu:\n",
    "        print(m)\n",
    "\n",
    "todaymenu('만두','불고기','김치')"
   ]
  },
  {
   "cell_type": "code",
   "execution_count": 19,
   "id": "0b676f50-4514-4e46-adf3-908b91769292",
   "metadata": {},
   "outputs": [],
   "source": [
    "#help(bmi)\n",
    "bmi.__doc__"
   ]
  },
  {
   "cell_type": "code",
   "execution_count": 21,
   "id": "a820fbc4-bd41-4b99-9d09-bdb79fd978b9",
   "metadata": {},
   "outputs": [
    {
     "data": {
      "text/plain": [
       "[123, 456, 789]"
      ]
     },
     "execution_count": 21,
     "metadata": {},
     "output_type": "execute_result"
    }
   ],
   "source": [
    "a = ['123', '456', '789']\n",
    "b = list(map(int, a))\n",
    "b"
   ]
  },
  {
   "cell_type": "code",
   "execution_count": 26,
   "id": "9621280a-1466-47ed-af88-616340ee0b9c",
   "metadata": {},
   "outputs": [
    {
     "name": "stdout",
     "output_type": "stream",
     "text": [
      "[1230, 4560, 7890]\n"
     ]
    }
   ],
   "source": [
    "c = list(map(lambda x : x*10, b))\n",
    "print(c)"
   ]
  },
  {
   "cell_type": "code",
   "execution_count": 42,
   "id": "8f08a06e-81af-4f9f-9683-6b44c476765e",
   "metadata": {},
   "outputs": [
    {
     "name": "stdout",
     "output_type": "stream",
     "text": [
      "5.0\n"
     ]
    },
    {
     "name": "stdin",
     "output_type": "stream",
     "text": [
      "a: 3\n",
      "b: 5\n"
     ]
    },
    {
     "name": "stdout",
     "output_type": "stream",
     "text": [
      "5.830951894845301\n"
     ]
    }
   ],
   "source": [
    "#prob. 좌표상의 거리 구하기\n",
    "def distance(a=None,b=None):\n",
    "    if(a ==  None and b == None):\n",
    "        a = int(input('a:'))\n",
    "        b = int(input('b:'))\n",
    "    c = (a**2+b**2)**0.5\n",
    "    print(c)\n",
    "\n",
    "distance(3, 4)\n",
    "distance()"
   ]
  },
  {
   "cell_type": "code",
   "execution_count": 61,
   "id": "c57afb95-ebc0-462b-99c5-111f96bbf00a",
   "metadata": {},
   "outputs": [
    {
     "name": "stdin",
     "output_type": "stream",
     "text": [
      "name: 홍길동\n",
      "book's key 1\n"
     ]
    },
    {
     "ename": "KeyError",
     "evalue": "'홍길동'",
     "output_type": "error",
     "traceback": [
      "\u001b[1;31m---------------------------------------------------------------------------\u001b[0m",
      "\u001b[1;31mKeyError\u001b[0m                                  Traceback (most recent call last)",
      "Cell \u001b[1;32mIn[61], line 10\u001b[0m\n\u001b[0;32m      9\u001b[0m \u001b[38;5;28;01mtry\u001b[39;00m:\n\u001b[1;32m---> 10\u001b[0m     \u001b[38;5;28;01mif\u001b[39;00m \u001b[38;5;28mlen\u001b[39m(loan[n])\u001b[38;5;241m>\u001b[39m\u001b[38;5;241m3\u001b[39m:\n\u001b[0;32m     11\u001b[0m         \u001b[38;5;28;01mbreak\u001b[39;00m\n",
      "\u001b[1;31mKeyError\u001b[0m: '홍길동'",
      "\nDuring handling of the above exception, another exception occurred:\n",
      "\u001b[1;31mKeyError\u001b[0m                                  Traceback (most recent call last)",
      "Cell \u001b[1;32mIn[61], line 15\u001b[0m\n\u001b[0;32m     13\u001b[0m         loan[n]\u001b[38;5;241m.\u001b[39mappend(book[key])\n\u001b[0;32m     14\u001b[0m \u001b[38;5;28;01mexcept\u001b[39;00m \u001b[38;5;167;01mException\u001b[39;00m:\n\u001b[1;32m---> 15\u001b[0m     loan[n]\u001b[38;5;241m.\u001b[39mappend(book[key])\n\u001b[0;32m     16\u001b[0m     \u001b[38;5;28mprint\u001b[39m(loan[n])\n",
      "\u001b[1;31mKeyError\u001b[0m: '홍길동'"
     ]
    }
   ],
   "source": [
    "#prob. 도서 대출 시스템\n",
    "name = ('홍길동', '홍길은', '홍길금')\n",
    "book = {1:'가', 2:'나', 3:'다', 4:'라', 5:'마', 6:'바', 7:'사', 8:'아', 9:'자', 10:'차'}\n",
    "loan={}\n",
    "while True:\n",
    "    n = input('name:')\n",
    "    while n != 'q':\n",
    "        key = int(input(\"book's key\"))\n",
    "        try:\n",
    "            if len(loan[n])>3:\n",
    "                break\n",
    "            else:\n",
    "                loan[n].append(book[key])\n",
    "        except Exception:\n",
    "            loan[n].append(book[key])\n",
    "            print(loan[n])#, ' ', len(loan[n]))"
   ]
  },
  {
   "cell_type": "code",
   "execution_count": 70,
   "id": "d949280d-0fc3-4700-9da1-a9ec8e0b9b5f",
   "metadata": {},
   "outputs": [
    {
     "name": "stdin",
     "output_type": "stream",
     "text": [
      "name: 홍길동\n",
      "book key 3\n",
      "book key 8\n",
      "book key 1\n",
      "name: 임재현\n",
      "book key 2\n",
      "book key 9\n",
      "book key 10\n",
      "name: 김은영\n",
      "book key 2\n",
      "book key 7\n",
      "book key 1\n",
      "name: q\n"
     ]
    },
    {
     "name": "stdout",
     "output_type": "stream",
     "text": [
      "{'홍길동': ['다', '아', '가'], '임재현': ['나', '자', '차'], '김은영': ['나', '사', '가']}\n"
     ]
    }
   ],
   "source": [
    "#prob. 도서 대출 시스템\n",
    "book = {1:'가', 2:'나', 3:'다', 4:'라', 5:'마', 6:'바', 7:'사', 8:'아', 9:'자', 10:'차'}\n",
    "brrorw_dic={}\n",
    "\n",
    "def brrorw(name):\n",
    "    book_list=[]\n",
    "    n=0\n",
    "    b = ' '\n",
    "    while n<3:\n",
    "        b = input('book key')\n",
    "        if(b == 'q'):\n",
    "            break\n",
    "        book_list.append(book[int(b)])\n",
    "        n += 1\n",
    "    brrorw_dic[name] = book_list\n",
    "\n",
    "while True:\n",
    "    name = input('name:')\n",
    "    if(name == 'q'):\n",
    "        break\n",
    "    brrorw(name)\n",
    "print(brrorw_dic)\n"
   ]
  },
  {
   "cell_type": "code",
   "execution_count": 80,
   "id": "1440a444-db67-4695-af26-f8f25bba46e8",
   "metadata": {},
   "outputs": [
    {
     "name": "stdin",
     "output_type": "stream",
     "text": [
      "coffee: ice\n",
      "customer: kim\n"
     ]
    },
    {
     "name": "stdout",
     "output_type": "stream",
     "text": [
      "kim's menu:ice\n"
     ]
    },
    {
     "name": "stdin",
     "output_type": "stream",
     "text": [
      "coffee: ice\n",
      "customer: \n"
     ]
    },
    {
     "name": "stdout",
     "output_type": "stream",
     "text": [
      "2's menu:ice\n"
     ]
    },
    {
     "name": "stdin",
     "output_type": "stream",
     "text": [
      "coffee: end\n"
     ]
    }
   ],
   "source": [
    "#커피주문시스템\n",
    "n = 1\n",
    "def order(menu, name):\n",
    "    print(f\"{name}'s menu:{menu}\")\n",
    "while True:\n",
    "    coffee = input(\"coffee:\")\n",
    "    if coffee == 'end':\n",
    "        break\n",
    "    customer = input(\"customer:\")\n",
    "    if(customer == \"\"):\n",
    "        order(coffee, n)\n",
    "    else:\n",
    "        order(coffee, customer)\n",
    "    n += 1"
   ]
  },
  {
   "cell_type": "code",
   "execution_count": null,
   "id": "205e8d23-0b87-4322-b926-80eb359401d4",
   "metadata": {},
   "outputs": [],
   "source": []
  }
 ],
 "metadata": {
  "kernelspec": {
   "display_name": "Python 3 (ipykernel)",
   "language": "python",
   "name": "python3"
  },
  "language_info": {
   "codemirror_mode": {
    "name": "ipython",
    "version": 3
   },
   "file_extension": ".py",
   "mimetype": "text/x-python",
   "name": "python",
   "nbconvert_exporter": "python",
   "pygments_lexer": "ipython3",
   "version": "3.13.5"
  }
 },
 "nbformat": 4,
 "nbformat_minor": 5
}
