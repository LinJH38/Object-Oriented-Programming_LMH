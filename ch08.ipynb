{
 "cells": [
  {
   "cell_type": "code",
   "execution_count": 1,
   "id": "2b7210a0-7eab-417d-8923-17ac8d583a63",
   "metadata": {},
   "outputs": [],
   "source": [
    "file = open('New file.txt', 'w')\n",
    "file.write('wellcome to python world')\n",
    "file.close()"
   ]
  },
  {
   "cell_type": "code",
   "execution_count": 3,
   "id": "081cb135-daf7-40b1-a1a8-939d59b8449d",
   "metadata": {},
   "outputs": [],
   "source": [
    "try:\n",
    "    f = open('NEW file.txt', 'r')\n",
    "except:\n",
    "    print('파일 오류')\n",
    "f.close()"
   ]
  },
  {
   "cell_type": "code",
   "execution_count": 5,
   "id": "3f76dea8-54d6-4f1d-b1c1-1ae05015029f",
   "metadata": {},
   "outputs": [],
   "source": [
    "file = open('New file.txt', 'a')\n",
    "a = []\n",
    "for i in range(1,11,1):\n",
    "    a.append(str(i))\n",
    "file.writelines(a)\n",
    "file.close()"
   ]
  },
  {
   "cell_type": "code",
   "execution_count": 6,
   "id": "48f2afdf-e397-4bd1-92c1-227b6a19f179",
   "metadata": {},
   "outputs": [],
   "source": [
    "file = open('New file.txt', 'a')\n",
    "file.write('\\n'+'sex')\n",
    "file.close()"
   ]
  },
  {
   "cell_type": "code",
   "execution_count": 7,
   "id": "4408b62d-3623-4444-a4d7-dde9f436329d",
   "metadata": {},
   "outputs": [
    {
     "name": "stdout",
     "output_type": "stream",
     "text": [
      "38\n",
      "32\n",
      "10\n",
      "error\n"
     ]
    }
   ],
   "source": [
    "A = [38, 32, 10]\n",
    "for i in range(4):\n",
    "    try:\n",
    "        print(A[i])\n",
    "    except IndexError:\n",
    "        print('error')\n",
    "        break"
   ]
  },
  {
   "cell_type": "code",
   "execution_count": 10,
   "id": "28f56474-6a8c-4dbc-97ae-4a231aac07ad",
   "metadata": {},
   "outputs": [
    {
     "name": "stdin",
     "output_type": "stream",
     "text": [
      "put a name hong\n"
     ]
    },
    {
     "name": "stdout",
     "output_type": "stream",
     "text": [
      "20000301\n"
     ]
    },
    {
     "name": "stdin",
     "output_type": "stream",
     "text": [
      "put a name kim\n"
     ]
    },
    {
     "name": "stdout",
     "output_type": "stream",
     "text": [
      "16040101\n"
     ]
    },
    {
     "name": "stdin",
     "output_type": "stream",
     "text": [
      "put a name sn\n"
     ]
    },
    {
     "name": "stdout",
     "output_type": "stream",
     "text": [
      "there is no\n"
     ]
    },
    {
     "name": "stdin",
     "output_type": "stream",
     "text": [
      "put a name q\n"
     ]
    },
    {
     "name": "stdout",
     "output_type": "stream",
     "text": [
      "there is no\n"
     ]
    }
   ],
   "source": [
    "#예외 처리 연습 문제\n",
    "brith = {'hong':20000301, 'kim':16040101,'yu':15950101}\n",
    "q = ' '\n",
    "while q != 'q':\n",
    "    q = input('put a name')\n",
    "    try:\n",
    "        print(brith[q])\n",
    "    except:\n",
    "        print('there is no')"
   ]
  },
  {
   "cell_type": "code",
   "execution_count": 16,
   "id": "b9f7de5b-9b66-4f98-8733-4a36d9beb2d8",
   "metadata": {},
   "outputs": [
    {
     "name": "stdout",
     "output_type": "stream",
     "text": [
      "stamina: 280\n"
     ]
    },
    {
     "name": "stdin",
     "output_type": "stream",
     "text": [
      "damage: 10\n"
     ]
    },
    {
     "name": "stdout",
     "output_type": "stream",
     "text": [
      "stamina: 270\n"
     ]
    },
    {
     "name": "stdin",
     "output_type": "stream",
     "text": [
      "damage: 20\n"
     ]
    },
    {
     "name": "stdout",
     "output_type": "stream",
     "text": [
      "stamina: 250\n"
     ]
    },
    {
     "name": "stdin",
     "output_type": "stream",
     "text": [
      "damage: 100\n"
     ]
    },
    {
     "name": "stdout",
     "output_type": "stream",
     "text": [
      "stamina: 150\n"
     ]
    },
    {
     "name": "stdin",
     "output_type": "stream",
     "text": [
      "damage: save\n"
     ]
    }
   ],
   "source": [
    "#세이브 파일 만들기\n",
    "file = open('save.txt', 'w')\n",
    "stamina = 280\n",
    "status = ' '\n",
    "print('stamina: %d'%stamina)\n",
    "while True:\n",
    "    status = input('damage:')\n",
    "    try:\n",
    "        stamina = stamina - int(status)\n",
    "        print('stamina: %d'%stamina)\n",
    "    except ValueError:#ValueError: 데이터의 값이 이상할 때 사용함\n",
    "        break\n",
    "file.write(f\"stamina: {stamina}\")#f.wirte는 문자열 하나만 받을 수 있음. 따라서 f\" \"함수로 구성함\n",
    "file.close()"
   ]
  },
  {
   "cell_type": "code",
   "execution_count": 18,
   "id": "5fac3605-9ca3-4908-b669-c31b915f0968",
   "metadata": {},
   "outputs": [
    {
     "name": "stdin",
     "output_type": "stream",
     "text": [
      "what country kor\n"
     ]
    },
    {
     "name": "stdout",
     "output_type": "stream",
     "text": [
      "0\n"
     ]
    },
    {
     "name": "stdin",
     "output_type": "stream",
     "text": [
      "what country usa\n"
     ]
    },
    {
     "name": "stdout",
     "output_type": "stream",
     "text": [
      "1\n"
     ]
    },
    {
     "name": "stdin",
     "output_type": "stream",
     "text": [
      "what country rus\n"
     ]
    },
    {
     "name": "stdout",
     "output_type": "stream",
     "text": [
      "4\n"
     ]
    },
    {
     "name": "stdin",
     "output_type": "stream",
     "text": [
      "what country vie\n"
     ]
    },
    {
     "name": "stdout",
     "output_type": "stream",
     "text": [
      "5\n"
     ]
    },
    {
     "name": "stdin",
     "output_type": "stream",
     "text": [
      "what country other\n"
     ]
    },
    {
     "name": "stdout",
     "output_type": "stream",
     "text": [
      "otheris not in list. log adding\n"
     ]
    },
    {
     "name": "stdin",
     "output_type": "stream",
     "text": [
      "what country ssal\n"
     ]
    },
    {
     "name": "stdout",
     "output_type": "stream",
     "text": [
      "ssalis not in list. log adding\n"
     ]
    },
    {
     "name": "stdin",
     "output_type": "stream",
     "text": [
      "what country q\n"
     ]
    },
    {
     "name": "stdout",
     "output_type": "stream",
     "text": [
      "qis not in list. log adding\n"
     ]
    }
   ],
   "source": [
    "#오류 목록 만들기. 답안지에서는 try ~ except ValueError as e:사용 'ValueError as e' -> e에 Error 종류 넣어줌\n",
    "file = open('log.txt','w')\n",
    "file.close()\n",
    "nation = ['kor', 'usa', 'jap', 'chi', 'rus', 'vie']\n",
    "con = ' '\n",
    "while con != 'q':\n",
    "    con = input('what country')\n",
    "    if con in nation:\n",
    "        print(nation.index(con))\n",
    "    else:\n",
    "        ermg=con+'is not in list. log adding'\n",
    "        print(ermg)\n",
    "        file = open('log.txt','a')\n",
    "        file.write(ermg)\n",
    "        file.close()"
   ]
  },
  {
   "cell_type": "code",
   "execution_count": 46,
   "id": "627b0a0a-2483-42e1-8af5-d6ed594050ba",
   "metadata": {},
   "outputs": [
    {
     "name": "stdout",
     "output_type": "stream",
     "text": [
      "sum:475\n",
      "avg:79\n"
     ]
    }
   ],
   "source": [
    "#점수 합계 구하기\n",
    "f = open('log.txt', 'w')\n",
    "score = [80, 90, 100, 50, 60, 95]\n",
    "for i in score:\n",
    "    f.write(str(i))\n",
    "    f.write('\\n')\n",
    "f.close()\n",
    "f = open('log.txt', 'r')\n",
    "s_list = f.readlines()\n",
    "s_list = list(map(int, s_list)) #리스트 전체의 type을 int로 형변환\n",
    "\n",
    "s_sum = sum(s_list)\n",
    "print(f\"sum:{s_sum}\")\n",
    "print(\"avg:%d\"%int(s_sum/len(s_list)))"
   ]
  },
  {
   "cell_type": "code",
   "execution_count": null,
   "id": "cffd25e8-6433-493f-b563-cce03ffbdea8",
   "metadata": {},
   "outputs": [],
   "source": [
    "#찾기-바꾸기 기능 만들기"
   ]
  },
  {
   "cell_type": "code",
   "execution_count": null,
   "id": "b4833243-8b29-4030-acfe-30c78df51b8a",
   "metadata": {},
   "outputs": [],
   "source": []
  }
 ],
 "metadata": {
  "kernelspec": {
   "display_name": "Python 3 (ipykernel)",
   "language": "python",
   "name": "python3"
  },
  "language_info": {
   "codemirror_mode": {
    "name": "ipython",
    "version": 3
   },
   "file_extension": ".py",
   "mimetype": "text/x-python",
   "name": "python",
   "nbconvert_exporter": "python",
   "pygments_lexer": "ipython3",
   "version": "3.13.5"
  }
 },
 "nbformat": 4,
 "nbformat_minor": 5
}
