{
 "cells": [
  {
   "cell_type": "code",
   "execution_count": 2,
   "id": "2abe9a1e-b3d6-40ff-982a-b575a72e1f76",
   "metadata": {},
   "outputs": [
    {
     "name": "stdin",
     "output_type": "stream",
     "text": [
      "how old r u?: 30\n"
     ]
    },
    {
     "name": "stdout",
     "output_type": "stream",
     "text": [
      "you lived for 30 years\n"
     ]
    }
   ],
   "source": [
    "#prob. 문장 말하는 앵무새\n",
    "i = input('how old r u?:')\n",
    "print('you lived for', i , 'years')"
   ]
  },
  {
   "cell_type": "code",
   "execution_count": 3,
   "id": "7c11d66e-a34e-480f-8b2d-c73a0877b948",
   "metadata": {},
   "outputs": [
    {
     "name": "stdin",
     "output_type": "stream",
     "text": [
      "height:  180\n"
     ]
    },
    {
     "name": "stdout",
     "output_type": "stream",
     "text": [
      "your ideal weight is 80\n"
     ]
    }
   ],
   "source": [
    "#prob. 적정 몸무게 산출하기\n",
    "height = int(input('height: '))\n",
    "print(f\"your ideal weight is {height-100}\")"
   ]
  },
  {
   "cell_type": "code",
   "execution_count": 4,
   "id": "c898badb-adf1-42eb-89a4-f96653009938",
   "metadata": {},
   "outputs": [
    {
     "name": "stdin",
     "output_type": "stream",
     "text": [
      "first:  2\n",
      "second:  3\n"
     ]
    },
    {
     "name": "stdout",
     "output_type": "stream",
     "text": [
      "sum = 5\n"
     ]
    }
   ],
   "source": [
    "#prob. 단순 계산기 프로그램\n",
    "a = int(input('first: '))\n",
    "b = int(input('second: '))\n",
    "print('sum =', a+b)"
   ]
  },
  {
   "cell_type": "code",
   "execution_count": 6,
   "id": "8a348f32-3f4f-469a-a3ba-77e820eff472",
   "metadata": {},
   "outputs": [
    {
     "name": "stdin",
     "output_type": "stream",
     "text": [
      "first:  1\n",
      "second:  2\n"
     ]
    },
    {
     "name": "stdout",
     "output_type": "stream",
     "text": [
      "divide = 0.5   0   1\n"
     ]
    }
   ],
   "source": [
    "#prob. 나눗셈 계산기 프로그램\n",
    "a = int(input('first: '))\n",
    "b = int(input('second: '))\n",
    "print('divide =', a/b, ' ', a//b, ' ', a%b)"
   ]
  },
  {
   "cell_type": "code",
   "execution_count": 11,
   "id": "212a2777-509f-4a50-add3-5ac86b51d280",
   "metadata": {},
   "outputs": [
    {
     "name": "stdin",
     "output_type": "stream",
     "text": [
      "name: lin\n",
      "korean:  100\n",
      "math:  90\n",
      "sociology:  89\n",
      "sience:  59\n",
      "english:  100\n"
     ]
    },
    {
     "name": "stdout",
     "output_type": "stream",
     "text": [
      "lin's scores\n",
      "sum = 438, avg = 87.600000\n"
     ]
    }
   ],
   "source": [
    "#prob. 성적 계산 프로그램\n",
    "name = input('name:')\n",
    "a = int(input('korean: '))\n",
    "b = int(input('math: '))\n",
    "c = int(input('sociology: '))\n",
    "d = int(input('sience: '))\n",
    "e = int(input('english: '))\n",
    "#b = int(input('second: '))\n",
    "sum_s = a+b+c+d+e\n",
    "print(f\"{name}'s scores\")\n",
    "print('sum = %d, avg = %f'%(sum_s, sum_s/5))#반드시 이런 식으로, 포맷 연산자에 튜플 형태로 써야함!!"
   ]
  },
  {
   "cell_type": "code",
   "execution_count": 12,
   "id": "0ec323ca-d00c-4357-87ee-67174e071aba",
   "metadata": {},
   "outputs": [
    {
     "name": "stdin",
     "output_type": "stream",
     "text": [
      "first(cm): 15.3\n",
      "second(cm): 12.1\n"
     ]
    },
    {
     "name": "stdout",
     "output_type": "stream",
     "text": [
      "length: 19.50640920313116\n"
     ]
    }
   ],
   "source": [
    "#prob. 피타고라스 정리\n",
    "a = float(input('first(cm):'))\n",
    "b = float(input('second(cm):'))\n",
    "print('length:', (a**2+b**2)**0.5)"
   ]
  },
  {
   "cell_type": "code",
   "execution_count": 20,
   "id": "d0de7f23-30ba-41b5-aa45-5a3ac3699112",
   "metadata": {},
   "outputs": [
    {
     "name": "stdin",
     "output_type": "stream",
     "text": [
      "radius:  1\n"
     ]
    },
    {
     "name": "stdout",
     "output_type": "stream",
     "text": [
      "length: 6.3, area: 3.1\n"
     ]
    }
   ],
   "source": [
    "#prob. 원의 넓이 구하기\n",
    "a = float(input('radius: '))\n",
    "print('length: {0:.1f}, area: {1:.1f}'.format((2*3.14*a),(3.14*a**2)))#format 형태 출력 방법: {키워드:문자 출력 형태}"
   ]
  },
  {
   "cell_type": "code",
   "execution_count": 22,
   "id": "a40945c2-4e83-4e20-b43f-b79b073dae7a",
   "metadata": {},
   "outputs": [
    {
     "name": "stdin",
     "output_type": "stream",
     "text": [
      "a: 3\n",
      "b: 4\n",
      "c: 1\n"
     ]
    },
    {
     "name": "stdout",
     "output_type": "stream",
     "text": [
      "3x^2+4x+1 = \n",
      "-4 +- 2.0\n",
      "------------\n",
      "6\n"
     ]
    }
   ],
   "source": [
    "#prob. 이차방정식 해 계산\n",
    "a = int(input('a:'))\n",
    "b = int(input('b:'))\n",
    "c = int(input('c:'))\n",
    "print('{0}x^2+{1}x+{2} = '.format(a,b,c))\n",
    "print(-b, '+-', (b**2-4*a*c)**0.5)\n",
    "print('------------')\n",
    "print(2*a)"
   ]
  },
  {
   "cell_type": "code",
   "execution_count": 23,
   "id": "ddf59dc8-7de3-4fb1-b462-aeccf894253a",
   "metadata": {},
   "outputs": [
    {
     "name": "stdin",
     "output_type": "stream",
     "text": [
      "first:  lin\n",
      "second:  zin\n",
      "third:  xuan\n"
     ]
    },
    {
     "name": "stdout",
     "output_type": "stream",
     "text": [
      "lin님 올 2020에도 새해~\n",
      "zin님 올 2020에도 새해~\n",
      "xuan님 올 2020에도 새해~\n"
     ]
    }
   ],
   "source": [
    "#prob. 문자 자동 전송\n",
    "a = input('first: ')\n",
    "b = input('second: ')\n",
    "c = input('third: ')\n",
    "\n",
    "print('%s님 올 2020에도 새해~'%(a))\n",
    "print('%s님 올 2020에도 새해~'%(b))\n",
    "print('%s님 올 2020에도 새해~'%(c))"
   ]
  },
  {
   "cell_type": "code",
   "execution_count": 29,
   "id": "c3f8a1e1-e1da-4e6c-ae8b-be5d74bce6ba",
   "metadata": {},
   "outputs": [
    {
     "name": "stdin",
     "output_type": "stream",
     "text": [
      "name: l\n",
      "height: 176\n",
      "weight: 72\n"
     ]
    },
    {
     "name": "stdout",
     "output_type": "stream",
     "text": [
      "l's height is 176 and weight is 72.\n",
      "BMI is 23.243801652892564\n"
     ]
    }
   ],
   "source": [
    "#prob. BMI 계산\n",
    "name = input('name:')\n",
    "height = int(input('height:'))\n",
    "weight = int(input('weight:'))\n",
    "\n",
    "print(f\"{name}'s height is {height} and weight is {weight}.\")\n",
    "print(f\"BMI is {(weight/height**2)*10**4}\")"
   ]
  },
  {
   "cell_type": "code",
   "execution_count": null,
   "id": "681b115d-747b-4cfb-b0c1-9c672836f3b1",
   "metadata": {},
   "outputs": [],
   "source": []
  }
 ],
 "metadata": {
  "kernelspec": {
   "display_name": "Python 3 (ipykernel)",
   "language": "python",
   "name": "python3"
  },
  "language_info": {
   "codemirror_mode": {
    "name": "ipython",
    "version": 3
   },
   "file_extension": ".py",
   "mimetype": "text/x-python",
   "name": "python",
   "nbconvert_exporter": "python",
   "pygments_lexer": "ipython3",
   "version": "3.13.5"
  }
 },
 "nbformat": 4,
 "nbformat_minor": 5
}
