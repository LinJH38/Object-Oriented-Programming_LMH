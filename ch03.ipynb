{
 "cells": [
  {
   "cell_type": "code",
   "execution_count": 1,
   "id": "36cbdb56-c265-43da-96bc-18a2336ae9c3",
   "metadata": {},
   "outputs": [
    {
     "name": "stdin",
     "output_type": "stream",
     "text": [
      "put variable: 3\n"
     ]
    },
    {
     "name": "stdout",
     "output_type": "stream",
     "text": [
      "Greater than three\n"
     ]
    }
   ],
   "source": [
    "#practice\n",
    "a = int(input('put variable:'))\n",
    "if(a>=3):\n",
    "    print('Greater than three')"
   ]
  },
  {
   "cell_type": "code",
   "execution_count": null,
   "id": "3ff2d3d6-2b54-4df7-b84e-faeaf6aa8bb4",
   "metadata": {},
   "outputs": [],
   "source": []
  },
  {
   "cell_type": "code",
   "execution_count": 5,
   "id": "33bb69e8-5128-4715-96fc-a7e6627799f7",
   "metadata": {},
   "outputs": [
    {
     "name": "stdout",
     "output_type": "stream",
     "text": [
      "False\n"
     ]
    }
   ],
   "source": [
    "#practice\n",
    "a = False\n",
    "if not a:\n",
    "    print('False')"
   ]
  },
  {
   "cell_type": "code",
   "execution_count": null,
   "id": "566ce197-bd0c-46c9-90e2-c2f4eb8b4817",
   "metadata": {},
   "outputs": [],
   "source": []
  },
  {
   "cell_type": "code",
   "execution_count": 6,
   "id": "47a5b2a5-532e-4125-9a80-67fe51e082b5",
   "metadata": {},
   "outputs": [],
   "source": [
    "#door lock"
   ]
  },
  {
   "cell_type": "code",
   "execution_count": null,
   "id": "e0d5f34f-ad32-429a-9c0f-5dad50aab19f",
   "metadata": {},
   "outputs": [],
   "source": []
  },
  {
   "cell_type": "code",
   "execution_count": 25,
   "id": "cd697d0b-1c6d-4ab7-83a9-eafcf91c72d0",
   "metadata": {},
   "outputs": [
    {
     "name": "stdin",
     "output_type": "stream",
     "text": [
      "your name 임재현\n"
     ]
    },
    {
     "name": "stdout",
     "output_type": "stream",
     "text": [
      "go to 3-7\n"
     ]
    }
   ],
   "source": [
    "#half batch\n",
    "name = input('your name')\n",
    "if(name == '임재현'):\n",
    "    print(\"go to 3-7\")\n",
    "elif(name == '양승빈'):\n",
    "    print('go to 3-8')"
   ]
  },
  {
   "cell_type": "code",
   "execution_count": null,
   "id": "f2265aa5-fb90-4e9c-ad18-a6b3b8e544c1",
   "metadata": {},
   "outputs": [],
   "source": []
  },
  {
   "cell_type": "code",
   "execution_count": 21,
   "id": "c1a96081-859e-4f8e-a264-aaf30de56775",
   "metadata": {},
   "outputs": [
    {
     "name": "stdin",
     "output_type": "stream",
     "text": [
      "your age 17\n"
     ]
    },
    {
     "name": "stdout",
     "output_type": "stream",
     "text": [
      "you can see this movie\n"
     ]
    }
   ],
   "source": [
    "#15 years of age or older\n",
    "age = int(input('your age'))\n",
    "if age>=15:\n",
    "    print('you can see this movie')"
   ]
  },
  {
   "cell_type": "code",
   "execution_count": null,
   "id": "e30696df-4ba4-4418-b098-0a2b28d9f599",
   "metadata": {},
   "outputs": [],
   "source": []
  },
  {
   "cell_type": "code",
   "execution_count": 9,
   "id": "abbdfef8-4f65-4583-b12e-488fe1b16a07",
   "metadata": {},
   "outputs": [
    {
     "data": {
      "text/plain": [
       "0"
      ]
     },
     "execution_count": 9,
     "metadata": {},
     "output_type": "execute_result"
    }
   ],
   "source": [
    "1 and 0"
   ]
  },
  {
   "cell_type": "code",
   "execution_count": 10,
   "id": "604ff9a3-6080-4e89-9f68-2ee0ce5538ff",
   "metadata": {},
   "outputs": [
    {
     "data": {
      "text/plain": [
       "1"
      ]
     },
     "execution_count": 10,
     "metadata": {},
     "output_type": "execute_result"
    }
   ],
   "source": [
    "1 or 0"
   ]
  },
  {
   "cell_type": "code",
   "execution_count": 11,
   "id": "925a8a9d-5a00-496e-a61a-2284b2044c8a",
   "metadata": {},
   "outputs": [
    {
     "data": {
      "text/plain": [
       "False"
      ]
     },
     "execution_count": 11,
     "metadata": {},
     "output_type": "execute_result"
    }
   ],
   "source": [
    "not 1"
   ]
  },
  {
   "cell_type": "code",
   "execution_count": null,
   "id": "a0279712-dabb-48ca-a37b-f92b349e046e",
   "metadata": {},
   "outputs": [],
   "source": []
  },
  {
   "cell_type": "code",
   "execution_count": 13,
   "id": "f19a2adf-e66e-4140-8220-37e1b176fb8e",
   "metadata": {},
   "outputs": [
    {
     "name": "stdin",
     "output_type": "stream",
     "text": [
      "put your name 임재현\n"
     ]
    },
    {
     "name": "stdout",
     "output_type": "stream",
     "text": [
      "confirmed\n"
     ]
    }
   ],
   "source": [
    "#practice\n",
    "''' 여러 줄 주석처리\n",
    "name = input('put your name')\n",
    "if(name == '임재현'):\n",
    "    print('confirmed')\n",
    "'''\n",
    "else:\n",
    "    print('please enter again')"
   ]
  },
  {
   "cell_type": "code",
   "execution_count": null,
   "id": "aa249aef-82ec-4920-8cc1-3f368b270cff",
   "metadata": {},
   "outputs": [],
   "source": []
  },
  {
   "cell_type": "code",
   "execution_count": 19,
   "id": "dd6edc62-91a1-449d-800f-962014b34d80",
   "metadata": {},
   "outputs": [
    {
     "name": "stdin",
     "output_type": "stream",
     "text": [
      "100m 12\n",
      "1000m 12\n",
      "sit up record 12\n",
      "hand force record 12\n",
      "push up record 12\n"
     ]
    },
    {
     "name": "stdout",
     "output_type": "stream",
     "text": [
      "give up bruh\n"
     ]
    }
   ],
   "source": [
    "#police stamina test\n",
    "short_run = float(input('100m'))\n",
    "long_run = int(input('1000m'))\n",
    "sit_ups = int(input('sit up record'))\n",
    "hand_force = int(input('hand force record'))\n",
    "push_up = int(input('push up record'))\n",
    "\n",
    "if(short_run >= 13.6 and long_run >= 237 and sit_ups >= 51 and hand_force >= 56 and push_up >= 46):\n",
    "    print('you have very good chance to pass')\n",
    "else:\n",
    "    print('give up bruh')"
   ]
  },
  {
   "cell_type": "code",
   "execution_count": null,
   "id": "d954d932-c998-4a1a-91f1-f2ed3d0983c0",
   "metadata": {},
   "outputs": [],
   "source": []
  },
  {
   "cell_type": "code",
   "execution_count": 15,
   "id": "4bf35b8e-5d6a-4fe8-a475-ef5eb69b5e6a",
   "metadata": {},
   "outputs": [],
   "source": [
    "#odd-even distinction"
   ]
  },
  {
   "cell_type": "code",
   "execution_count": 26,
   "id": "c127c269-f108-4983-bed5-31bbd989a7fd",
   "metadata": {},
   "outputs": [
    {
     "name": "stdin",
     "output_type": "stream",
     "text": [
      "natural number 13.2\n"
     ]
    },
    {
     "ename": "ValueError",
     "evalue": "invalid literal for int() with base 10: '13.2'",
     "output_type": "error",
     "traceback": [
      "\u001b[1;31m---------------------------------------------------------------------------\u001b[0m",
      "\u001b[1;31mValueError\u001b[0m                                Traceback (most recent call last)",
      "Cell \u001b[1;32mIn[26], line 1\u001b[0m\n\u001b[1;32m----> 1\u001b[0m x \u001b[38;5;241m=\u001b[39m \u001b[38;5;28mint\u001b[39m(\u001b[38;5;28minput\u001b[39m(\u001b[38;5;124m'\u001b[39m\u001b[38;5;124mnatural number\u001b[39m\u001b[38;5;124m'\u001b[39m))\n\u001b[0;32m      2\u001b[0m \u001b[38;5;28;01mif\u001b[39;00m (x\u001b[38;5;241m%\u001b[39m\u001b[38;5;241m2\u001b[39m\u001b[38;5;241m==\u001b[39m\u001b[38;5;241m0\u001b[39m):\n\u001b[0;32m      3\u001b[0m     \u001b[38;5;28mprint\u001b[39m(\u001b[38;5;124m'\u001b[39m\u001b[38;5;124meven\u001b[39m\u001b[38;5;124m'\u001b[39m)\n",
      "\u001b[1;31mValueError\u001b[0m: invalid literal for int() with base 10: '13.2'"
     ]
    }
   ],
   "source": [
    "x = int(input('natural number'))\n",
    "if (x%2==0):\n",
    "    print('even')\n",
    "elif (x%2==1):\n",
    "    print('odd')\n",
    "else:\n",
    "    print('not natural number')"
   ]
  },
  {
   "cell_type": "code",
   "execution_count": 44,
   "id": "ac0622bb-0ce2-412a-9785-d6ebdf7a007d",
   "metadata": {},
   "outputs": [
    {
     "name": "stdout",
     "output_type": "stream",
     "text": [
      "0\n"
     ]
    },
    {
     "name": "stdin",
     "output_type": "stream",
     "text": [
      "put the number 38\n"
     ]
    },
    {
     "name": "stdout",
     "output_type": "stream",
     "text": [
      "3\n",
      "0\n",
      "2\n",
      "two digit\n"
     ]
    }
   ],
   "source": [
    "#determining the number of digits\n",
    "n = 0\n",
    "print(n)\n",
    "x = int(input('put the number'))\n",
    "while x != 0:\n",
    "    #print(x)\n",
    "    x = int(x/10)\n",
    "    print(x)\n",
    "    n += 1\n",
    "print(n)\n",
    "if(n == 1):\n",
    "    print('one digit')\n",
    "elif(n == 2):\n",
    "    print('two digit')\n",
    "elif(n == 3):\n",
    "    print('three digit')\n",
    "else:\n",
    "    print('more than three digit')"
   ]
  },
  {
   "cell_type": "code",
   "execution_count": null,
   "id": "f1f67ec2-30e7-4a87-8b8c-28622f8323f6",
   "metadata": {},
   "outputs": [],
   "source": []
  },
  {
   "cell_type": "code",
   "execution_count": null,
   "id": "d912891a-d9ca-4120-8f09-c7ae03e8169e",
   "metadata": {},
   "outputs": [],
   "source": []
  }
 ],
 "metadata": {
  "kernelspec": {
   "display_name": "Python 3 (ipykernel)",
   "language": "python",
   "name": "python3"
  },
  "language_info": {
   "codemirror_mode": {
    "name": "ipython",
    "version": 3
   },
   "file_extension": ".py",
   "mimetype": "text/x-python",
   "name": "python",
   "nbconvert_exporter": "python",
   "pygments_lexer": "ipython3",
   "version": "3.13.5"
  }
 },
 "nbformat": 4,
 "nbformat_minor": 5
}
