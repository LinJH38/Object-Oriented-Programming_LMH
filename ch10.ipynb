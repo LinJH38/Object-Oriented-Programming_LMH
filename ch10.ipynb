{
 "cells": [
  {
   "cell_type": "code",
   "execution_count": 10,
   "id": "21a8479c-f60f-41cd-bc05-16303071343a",
   "metadata": {},
   "outputs": [
    {
     "name": "stdout",
     "output_type": "stream",
     "text": [
      "red\n"
     ]
    }
   ],
   "source": [
    "from tkinter import *\n",
    "from tkinter import messagebox\n",
    "\n",
    "def buttonclick():\n",
    "    ent_text = et.get()\n",
    "    print(ent_text)\n",
    "    lb['fg']=ent_text\n",
    "    et.delete\n",
    "\n",
    "    messagebox.showinfo(\"subject\", \"change the color to\"+' '+ ent_text)\n",
    "\n",
    "window = Tk()\n",
    "window.title(\"create a button event\")\n",
    "\n",
    "lb = Label(window, text=\"please enter text in blank\", width = 40)\n",
    "et = Entry(window, width = 40)\n",
    "bt = Button(window, text=\"ok\", width=40, bg='pink',command = buttonclick)\n",
    "lb.pack()\n",
    "et.pack()\n",
    "bt.pack()\n",
    "window.mainloop()"
   ]
  },
  {
   "cell_type": "raw",
   "id": "24bd870a-bcc4-47bc-8597-b68e3593702d",
   "metadata": {},
   "source": []
  },
  {
   "cell_type": "code",
   "execution_count": 2,
   "id": "23ed354f-c169-4d1d-a790-38eb1077ca51",
   "metadata": {},
   "outputs": [],
   "source": [
    "#prob.버튼 이벤트-아이디와 패스워드 입력\n",
    "from tkinter import *\n",
    "from tkinter import messagebox\n",
    "\n",
    "def buttonclick():\n",
    "    id1 = 'choungang'\n",
    "    pw = '20220199'\n",
    "\n",
    "    id_text = et1.get()\n",
    "    pw_text = et2.get()\n",
    "\n",
    "    if(id1 != id_text):\n",
    "        messagebox.showwarning(\"login failuer\", \"not exist id\")\n",
    "    else:\n",
    "        if(pw != pw_text):\n",
    "            messagebox.showwarning(\"login failuer\", \"check your password\")\n",
    "        else:\n",
    "            messagebox.showinfo(\"login success\", \"Hello lin\")\n",
    "            log.destroy()\n",
    " \n",
    "log = Tk()\n",
    "log.title(\"login\")\n",
    "\n",
    "lb1 = Label(log, text = \"ID\", width = 40)\n",
    "et1 = Entry(log, width = 40)\n",
    "lb2 = Label(log, text = \"PIN\", width = 40)\n",
    "et2 = Entry(log, width = 40, show = \"*\")\n",
    "bt = Button(log, text = \"login\", width = 10, bd =5, command = buttonclick)\n",
    "\n",
    "lb1.pack()\n",
    "et1.pack()\n",
    "lb2.pack()\n",
    "et2.pack()\n",
    "bt.pack()\n",
    "\n",
    "log.mainloop()"
   ]
  },
  {
   "cell_type": "code",
   "execution_count": 8,
   "id": "66d67788-1159-4cc4-8ba0-192f6ed9c7b0",
   "metadata": {},
   "outputs": [],
   "source": [
    "from tkinter import *\n",
    "from tkinter import messagebox\n",
    "\n",
    "def buttonclick():\n",
    "    id1 = 'choungang'\n",
    "    pw = '20220199'\n",
    "\n",
    "    id_text = et1.get()\n",
    "    pw_text = et2.get()\n",
    "\n",
    "    if(id1 != id_text):\n",
    "        messagebox.showwarning(\"login failuer\", \"not exist id\")\n",
    "    else:\n",
    "        if(pw != pw_text):\n",
    "            messagebox.showwarning(\"login failuer\", \"check your password\")\n",
    "        else:\n",
    "            messagebox.showinfo(\"login success\", \"Hello lin\")\n",
    "            log.destroy()\n",
    " \n",
    "log = Tk()\n",
    "log.title(\"login\")\n",
    "\n",
    "lb1 = Label(log, text = \"ID\", width = 10)\n",
    "et1 = Entry(log, width = 40)\n",
    "lb2 = Label(log, text = \"PIN\", width = 10)\n",
    "et2 = Entry(log, width = 40, show = \"*\")\n",
    "bt = Button(log, text = \"login\", width = 10, bd =5, command = buttonclick)\n",
    "\n",
    "lb1.grid(row=0, column = 0)\n",
    "et1.grid(row = 0, column = 1)\n",
    "lb2.grid(row = 1, column = 0)\n",
    "et2.grid(row = 1, column = 1)\n",
    "bt.grid(row = 2, column = 0, columnspan = 2)\n",
    "\n",
    "log.mainloop()"
   ]
  },
  {
   "cell_type": "code",
   "execution_count": 13,
   "id": "14504e82-9238-45ea-8c3e-b25265752f96",
   "metadata": {},
   "outputs": [],
   "source": [
    "from tkinter import *\n",
    "from tkinter import messagebox\n",
    "\n",
    "def buttonclick():\n",
    "    id1 = 'choungang'\n",
    "    pw = '20220199'\n",
    "\n",
    "    id_text = et1.get()\n",
    "    pw_text = et2.get()\n",
    "\n",
    "    if(id1 != id_text):\n",
    "        messagebox.showwarning(\"login failuer\", \"not exist id\")\n",
    "    else:\n",
    "        if(pw != pw_text):\n",
    "            messagebox.showwarning(\"login failuer\", \"check your password\")\n",
    "        else:\n",
    "            messagebox.showinfo(\"login success\", \"Hello lin\")\n",
    "            log.destroy()\n",
    " \n",
    "log = Tk()\n",
    "log.title(\"login\")\n",
    "log.geometry(\"210x70\")\n",
    "\n",
    "lb1 = Label(log, text = \"ID\", width = 10)\n",
    "et1 = Entry(log, width = 40)\n",
    "lb2 = Label(log, text = \"PIN\", width = 10)\n",
    "et2 = Entry(log, width = 40, show = \"*\")\n",
    "bt = Button(log, text = \"login\", width = 10, bd =5, command = buttonclick)\n",
    "\n",
    "\n",
    "lb1.place(x=0, y = 0)\n",
    "et1.place(x = 60, y = 0)\n",
    "lb2.place(x = 0, y = 20)\n",
    "et2.place(x = 60, y = 20)\n",
    "bt.place(x = 60, y=40)\n",
    "\n",
    "log.mainloop()"
   ]
  },
  {
   "cell_type": "code",
   "execution_count": 15,
   "id": "92eb75f4-5e6e-4ff4-bb5f-4a20ec780910",
   "metadata": {},
   "outputs": [],
   "source": [
    "#prob.반복문으로 배치하기\n",
    "from tkinter import *\n",
    "n = 0\n",
    "repeat = Tk()\n",
    "repeat.title(\"Keypad\")\n",
    "\n",
    "for x in range(4):\n",
    "    for y in range(4):\n",
    "        label = Label(repeat, text = str(n), bg = \"yellow\", fg = \"red\", width = 10)\n",
    "        label.grid(row = x, column = y)\n",
    "        n += 1\n",
    "repeat.mainloop()"
   ]
  },
  {
   "cell_type": "code",
   "execution_count": 22,
   "id": "9deadc37-a34d-4580-a1c5-1ae0f0906339",
   "metadata": {},
   "outputs": [
    {
     "data": {
      "text/plain": [
       "{1: 'a', 2: 'b', 3: 'c'}"
      ]
     },
     "execution_count": 22,
     "metadata": {},
     "output_type": "execute_result"
    }
   ],
   "source": [
    "##zip 연습\n",
    "a = [1, 2, 3, 4]\n",
    "b = ['a', 'b', 'c']\n",
    "dict((zip(a,b)))"
   ]
  },
  {
   "cell_type": "code",
   "execution_count": 23,
   "id": "11d05a5d-c635-4b99-8798-544073874211",
   "metadata": {},
   "outputs": [
    {
     "name": "stdout",
     "output_type": "stream",
     "text": [
      "0 0 0 0\n",
      "0 1 0 1\n",
      "0 2 0 2\n",
      "0 3 0 3\n",
      "1 0 4 0\n",
      "1 1 4 1\n",
      "1 2 4 2\n",
      "1 3 4 3\n",
      "2 0 8 0\n",
      "2 1 8 1\n",
      "2 2 8 2\n",
      "2 3 8 3\n",
      "3 0 12 0\n",
      "3 1 12 1\n",
      "3 2 12 2\n",
      "3 3 12 3\n"
     ]
    }
   ],
   "source": [
    "##zip 연습2\n",
    "from tkinter import *\n",
    "n = 0\n",
    "repeat = Tk()\n",
    "repeat.title(\"Keypad\")\n",
    "\n",
    "for a,x in zip(range(4),range(0,16,4)):\n",
    "    for b,y in zip(range(4),range(4)):\n",
    "        label = Label(repeat, text = str(x+y), width=10, bg='yellow', fg='red')\n",
    "        label.grid(row=a, column=b)\n",
    "        print(a,b,x,y)\n",
    "repeat.mainloop()"
   ]
  },
  {
   "cell_type": "code",
   "execution_count": 35,
   "id": "c59cf50f-3bc5-4bb6-a0e5-e82725f46100",
   "metadata": {},
   "outputs": [],
   "source": [
    "#prob 메뉴 만들기 연습\n",
    "from tkinter import *\n",
    "from tkinter import messagebox\n",
    "\n",
    "widget = Tk()\n",
    "widget.title('menu')\n",
    "\n",
    "def message1():\n",
    "    messagebox.showwarning('invalid', 'not yet')\n",
    "def message2():\n",
    "    messagebox.showinfo('Exit', 'Exit')\n",
    "    widget.destroy()\n",
    "    widget.quit()\n",
    "\n",
    "menubar = Menu(widget)\n",
    "\n",
    "f1 = Menu(menubar, tearoff=0)\n",
    "\n",
    "f1.add_command(label='new file', command = message1)\n",
    "f1.add_command(label='open', command = message1)\n",
    "f1.add_command(label='save', command = message1)\n",
    "f1.add_separator()\n",
    "f1.add_command(label='Exit',command = message2)\n",
    "\n",
    "menubar.add_cascade(label='File', menu=f1)\n",
    "widget.config(menu=menubar)\n",
    "\n",
    "widget.mainloop()"
   ]
  },
  {
   "cell_type": "code",
   "execution_count": 38,
   "id": "666c4ba2-c1a8-414c-9406-102281f905ef",
   "metadata": {},
   "outputs": [],
   "source": [
    "#prob 메뉴 만들기 연습\n",
    "from tkinter import *\n",
    "from tkinter import messagebox\n",
    "\n",
    "widget = Tk()\n",
    "widget.title('menu')\n",
    "\n",
    "def message1():\n",
    "    messagebox.showwarning('invalid', 'not yet')\n",
    "def message2():\n",
    "    messagebox.showinfo('Exit', 'Exit')\n",
    "    widget.destroy()\n",
    "    widget.quit()\n",
    "\n",
    "menubar = Menu(widget)\n",
    "\n",
    "f1 = Menu(menubar, tearoff=0)\n",
    "f2 = Menu(menubar, tearoff=0)\n",
    "\n",
    "f1.add_command(label='new file', command = message1)\n",
    "f1.add_command(label='open', command = message1)\n",
    "f1.add_command(label='save', command = message1)\n",
    "f1.add_separator()\n",
    "f1.add_command(label='Exit',command = message2)\n",
    "\n",
    "f2.add_command(label='insert', command = message1)\n",
    "f2.add_command(label='delate', command = message1)\n",
    "f2.add_command(label='paste', command = message1)\n",
    "\n",
    "menubar.add_cascade(label='File', menu=f1)\n",
    "menubar.add_cascade(label='Edit', menu=f2)\n",
    "widget.config(menu=menubar)\n",
    "\n",
    "widget.mainloop()"
   ]
  },
  {
   "cell_type": "code",
   "execution_count": 43,
   "id": "42c6a146-ffa6-476e-adcb-70ecb89b374d",
   "metadata": {},
   "outputs": [
    {
     "name": "stdout",
     "output_type": "stream",
     "text": [
      "right mouse click 47 136\n",
      "right mouse click 134 119\n",
      "event widget info <ButtonPress event state=Lock|Mod1 num=1 x=107 y=109>\n",
      "event widget info <ButtonPress event state=Lock|Mod1 num=1 x=68 y=123>\n",
      "A\n",
      "right mouse click 60 82\n"
     ]
    }
   ],
   "source": [
    "from tkinter import *\n",
    "root = Tk()\n",
    "\n",
    "def click(key):\n",
    "    print('event widget info',key)\n",
    "def click2(event):\n",
    "    print('right mouse click', event.x, event.y)\n",
    "def click3(event):\n",
    "    print(event.char)\n",
    "\n",
    "root.bind(\"<Button-1>\", click)\n",
    "root.bind(\"<Button-2>\", click2)\n",
    "root.bind(\"<Key>\",click3)\n",
    "\n",
    "root.mainloop()"
   ]
  },
  {
   "cell_type": "code",
   "execution_count": 53,
   "id": "fb5a180e-9ddf-4176-83ea-00fcb1c6c9bb",
   "metadata": {},
   "outputs": [
    {
     "name": "stdout",
     "output_type": "stream",
     "text": [
      "19 10\n"
     ]
    }
   ],
   "source": [
    "from tkinter import *\n",
    "window = Tk()\n",
    "\n",
    "def click(event):\n",
    "    if event.x<20 and event.y<20:\n",
    "        print(event.x, event.y)\n",
    "        window.destroy()\n",
    "\n",
    "window.bind(\"<Button-1>\", click)\n",
    "window.mainloop()"
   ]
  },
  {
   "cell_type": "code",
   "execution_count": 55,
   "id": "29df2c1a-40a5-4ebe-8af5-40be92325ef5",
   "metadata": {},
   "outputs": [
    {
     "ename": "TypeError",
     "evalue": "block_factory() takes no arguments",
     "output_type": "error",
     "traceback": [
      "\u001b[1;31m---------------------------------------------------------------------------\u001b[0m",
      "\u001b[1;31mTypeError\u001b[0m                                 Traceback (most recent call last)",
      "Cell \u001b[1;32mIn[55], line 11\u001b[0m\n\u001b[0;32m      8\u001b[0m     \u001b[38;5;28;01mdef\u001b[39;00m\u001b[38;5;250m \u001b[39m\u001b[38;5;21mmake_short\u001b[39m(\u001b[38;5;28mself\u001b[39m):\n\u001b[0;32m      9\u001b[0m         \u001b[38;5;28mself\u001b[39m\u001b[38;5;241m.\u001b[39mshape \u001b[38;5;241m=\u001b[39m \u001b[38;5;124m'\u001b[39m\u001b[38;5;124mshort\u001b[39m\u001b[38;5;124m'\u001b[39m\n\u001b[1;32m---> 11\u001b[0m newblock \u001b[38;5;241m=\u001b[39m block_factory(\u001b[38;5;124m'\u001b[39m\u001b[38;5;124mgole\u001b[39m\u001b[38;5;124m'\u001b[39m, \u001b[38;5;124m'\u001b[39m\u001b[38;5;124mred\u001b[39m\u001b[38;5;124m'\u001b[39m, \u001b[38;5;124m'\u001b[39m\u001b[38;5;124mlong\u001b[39m\u001b[38;5;124m'\u001b[39m)\n\u001b[0;32m     12\u001b[0m \u001b[38;5;28mprint\u001b[39m(newblock\u001b[38;5;241m.\u001b[39mcompany, newblock\u001b[38;5;241m.\u001b[39mcolor, newblock\u001b[38;5;241m.\u001b[39mshape)\n\u001b[0;32m     13\u001b[0m newblock\u001b[38;5;241m.\u001b[39mmake_pink()\n",
      "\u001b[1;31mTypeError\u001b[0m: block_factory() takes no arguments"
     ]
    }
   ],
   "source": []
  },
  {
   "cell_type": "code",
   "execution_count": null,
   "id": "173622a2-042d-4db4-9c71-c9c4657325cc",
   "metadata": {},
   "outputs": [],
   "source": []
  }
 ],
 "metadata": {
  "kernelspec": {
   "display_name": "Python 3 (ipykernel)",
   "language": "python",
   "name": "python3"
  },
  "language_info": {
   "codemirror_mode": {
    "name": "ipython",
    "version": 3
   },
   "file_extension": ".py",
   "mimetype": "text/x-python",
   "name": "python",
   "nbconvert_exporter": "python",
   "pygments_lexer": "ipython3",
   "version": "3.13.5"
  }
 },
 "nbformat": 4,
 "nbformat_minor": 5
}
