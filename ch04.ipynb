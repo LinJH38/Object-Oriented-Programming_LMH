{
 "cells": [
  {
   "cell_type": "code",
   "execution_count": 17,
   "id": "1e30e542-88cb-426a-88b5-d4642c55d808",
   "metadata": {},
   "outputs": [
    {
     "name": "stdin",
     "output_type": "stream",
     "text": [
      "put your answer 50\n"
     ]
    },
    {
     "name": "stdout",
     "output_type": "stream",
     "text": [
      "down\n"
     ]
    },
    {
     "name": "stdin",
     "output_type": "stream",
     "text": [
      "put your answer 25\n"
     ]
    },
    {
     "name": "stdout",
     "output_type": "stream",
     "text": [
      "down\n"
     ]
    },
    {
     "name": "stdin",
     "output_type": "stream",
     "text": [
      "put your answer 10\n"
     ]
    },
    {
     "name": "stdout",
     "output_type": "stream",
     "text": [
      "up\n"
     ]
    },
    {
     "name": "stdin",
     "output_type": "stream",
     "text": [
      "put your answer 16\n"
     ]
    },
    {
     "name": "stdout",
     "output_type": "stream",
     "text": [
      "up\n"
     ]
    },
    {
     "name": "stdin",
     "output_type": "stream",
     "text": [
      "put your answer 20\n"
     ]
    },
    {
     "name": "stdout",
     "output_type": "stream",
     "text": [
      "up\n"
     ]
    },
    {
     "name": "stdin",
     "output_type": "stream",
     "text": [
      "put your answer 23\n"
     ]
    },
    {
     "name": "stdout",
     "output_type": "stream",
     "text": [
      "down\n"
     ]
    },
    {
     "name": "stdin",
     "output_type": "stream",
     "text": [
      "put your answer 22\n"
     ]
    },
    {
     "name": "stdout",
     "output_type": "stream",
     "text": [
      "down\n"
     ]
    },
    {
     "name": "stdin",
     "output_type": "stream",
     "text": [
      "put your answer 21\n"
     ]
    },
    {
     "name": "stdout",
     "output_type": "stream",
     "text": [
      "up\n",
      "correct\n"
     ]
    }
   ],
   "source": [
    "#up down game\n",
    "import random\n",
    "sol = random.randint(1,99)\n",
    "ans = 0\n",
    "\n",
    "while(not sol == ans):\n",
    "    ans = int(input('put your answer'))\n",
    "    if(ans > sol):\n",
    "        print('down')\n",
    "    else:\n",
    "        print('up')\n",
    "print('correct')\n",
    "        "
   ]
  },
  {
   "cell_type": "code",
   "execution_count": 19,
   "id": "af2d22b8-dcd5-4524-bf6d-7d5e9c9a08d4",
   "metadata": {},
   "outputs": [
    {
     "name": "stdout",
     "output_type": "stream",
     "text": [
      "6\n"
     ]
    },
    {
     "name": "stdin",
     "output_type": "stream",
     "text": [
      "press any key s\n"
     ]
    },
    {
     "name": "stdout",
     "output_type": "stream",
     "text": [
      "2\n"
     ]
    },
    {
     "name": "stdin",
     "output_type": "stream",
     "text": [
      "press any key d\n"
     ]
    },
    {
     "name": "stdout",
     "output_type": "stream",
     "text": [
      "3\n"
     ]
    },
    {
     "name": "stdin",
     "output_type": "stream",
     "text": [
      "press any key a\n"
     ]
    },
    {
     "name": "stdout",
     "output_type": "stream",
     "text": [
      "3\n"
     ]
    },
    {
     "name": "stdin",
     "output_type": "stream",
     "text": [
      "press any key f\n"
     ]
    },
    {
     "name": "stdout",
     "output_type": "stream",
     "text": [
      "2\n"
     ]
    },
    {
     "name": "stdin",
     "output_type": "stream",
     "text": [
      "press any key q\n"
     ]
    }
   ],
   "source": [
    "#dice program\n",
    "from random import *\n",
    "my = ''\n",
    "while (my != 'q'):\n",
    "    print(randint(1,6))\n",
    "    my = input('press any key')"
   ]
  },
  {
   "cell_type": "code",
   "execution_count": 21,
   "id": "ad25084b-39ec-46eb-a4c0-f754b00dc30c",
   "metadata": {},
   "outputs": [
    {
     "name": "stdin",
     "output_type": "stream",
     "text": [
      "(exit: 1) which number? 5\n"
     ]
    },
    {
     "name": "stdout",
     "output_type": "stream",
     "text": [
      "5x1=5\n",
      "5x2=10\n",
      "5x3=15\n",
      "5x4=20\n",
      "5x5=25\n",
      "5x6=30\n",
      "5x7=35\n",
      "5x8=40\n",
      "5x9=45\n"
     ]
    },
    {
     "name": "stdin",
     "output_type": "stream",
     "text": [
      "(exit: 1) which number? 7\n"
     ]
    },
    {
     "name": "stdout",
     "output_type": "stream",
     "text": [
      "7x1=7\n",
      "7x2=14\n",
      "7x3=21\n",
      "7x4=28\n",
      "7x5=35\n",
      "7x6=42\n",
      "7x7=49\n",
      "7x8=56\n",
      "7x9=63\n"
     ]
    },
    {
     "name": "stdin",
     "output_type": "stream",
     "text": [
      "(exit: 1) which number? 1\n"
     ]
    },
    {
     "name": "stdout",
     "output_type": "stream",
     "text": [
      "1x1=1\n",
      "1x2=2\n",
      "1x3=3\n",
      "1x4=4\n",
      "1x5=5\n",
      "1x6=6\n",
      "1x7=7\n",
      "1x8=8\n",
      "1x9=9\n"
     ]
    }
   ],
   "source": [
    "#multiplication outputs\n",
    "outer = 0\n",
    "inner = 0\n",
    "while(outer != 1):\n",
    "    outer = int(input('(exit: 1) which number?'))\n",
    "    for i in range(1, 10, 1):\n",
    "        print(f\"{outer}x{i}={outer*i}\")"
   ]
  },
  {
   "cell_type": "code",
   "execution_count": 25,
   "id": "5cdd00f2-ce44-456c-b376-65ed46c28ed0",
   "metadata": {},
   "outputs": [
    {
     "name": "stdin",
     "output_type": "stream",
     "text": [
      "number: 10\n"
     ]
    },
    {
     "name": "stdout",
     "output_type": "stream",
     "text": [
      "55\n"
     ]
    },
    {
     "name": "stdin",
     "output_type": "stream",
     "text": [
      "number: 100\n"
     ]
    },
    {
     "name": "stdout",
     "output_type": "stream",
     "text": [
      "5050\n"
     ]
    },
    {
     "name": "stdin",
     "output_type": "stream",
     "text": [
      "number: 23\n"
     ]
    },
    {
     "name": "stdout",
     "output_type": "stream",
     "text": [
      "276\n"
     ]
    },
    {
     "name": "stdin",
     "output_type": "stream",
     "text": [
      "number: 1\n"
     ]
    },
    {
     "name": "stdout",
     "output_type": "stream",
     "text": [
      "1\n"
     ]
    }
   ],
   "source": [
    "#gaussian cal\n",
    "a = 0\n",
    "while a!=1:\n",
    "    n=0\n",
    "    a = int(input(\"number:\"))\n",
    "    for i in range(1,a+1):\n",
    "        n += i\n",
    "    print(n)"
   ]
  },
  {
   "cell_type": "code",
   "execution_count": null,
   "id": "79e0071b-2407-4bde-8d61-2f260fa251e7",
   "metadata": {},
   "outputs": [],
   "source": []
  },
  {
   "cell_type": "code",
   "execution_count": 5,
   "id": "3b8fef01-e430-4a6f-a1dc-5cc8c10264a9",
   "metadata": {},
   "outputs": [
    {
     "name": "stdout",
     "output_type": "stream",
     "text": [
      "0\n",
      "1\n",
      "2\n",
      "3\n",
      "4\n",
      "5\n",
      "6\n",
      "7\n",
      "8\n",
      "9\n",
      "10\n"
     ]
    }
   ],
   "source": [
    "for i in range(11):\n",
    "    print(i)"
   ]
  },
  {
   "cell_type": "code",
   "execution_count": 7,
   "id": "2c91de98-c0dc-42ff-aaa0-348702c43bc1",
   "metadata": {},
   "outputs": [
    {
     "name": "stdout",
     "output_type": "stream",
     "text": [
      "5\n",
      "6\n",
      "7\n",
      "8\n",
      "9\n",
      "10\n",
      "11\n",
      "12\n",
      "13\n",
      "14\n",
      "15\n"
     ]
    }
   ],
   "source": [
    "for i in range(5, 16):\n",
    "    print(i)"
   ]
  },
  {
   "cell_type": "raw",
   "id": "5fbd8100-5b69-4f31-9192-f18e0d20c88f",
   "metadata": {},
   "source": []
  },
  {
   "cell_type": "code",
   "execution_count": 9,
   "id": "c858984a-ca9f-4604-b928-1992da0590c3",
   "metadata": {},
   "outputs": [
    {
     "name": "stdout",
     "output_type": "stream",
     "text": [
      "0\n",
      "2\n",
      "4\n",
      "6\n",
      "8\n",
      "10\n",
      "12\n",
      "14\n",
      "16\n",
      "18\n",
      "20\n"
     ]
    }
   ],
   "source": [
    "for even in range(0,21,2):\n",
    "    print(even)"
   ]
  },
  {
   "cell_type": "code",
   "execution_count": 30,
   "id": "aac1d72b-a96a-4011-860d-f44e5d3061f1",
   "metadata": {},
   "outputs": [
    {
     "name": "stdout",
     "output_type": "stream",
     "text": [
      "13\n"
     ]
    }
   ],
   "source": [
    "#fibonacci sequence\n",
    "f_b=0\n",
    "f_a=1\n",
    "for f in range(6):\n",
    "    f_n=f_b+f_a\n",
    "    f_b=f_a\n",
    "    f_a=f_n\n",
    "print(f_n)"
   ]
  },
  {
   "cell_type": "code",
   "execution_count": 34,
   "id": "350c7f1f-191e-48cf-9430-582938ad6d5d",
   "metadata": {},
   "outputs": [
    {
     "name": "stdin",
     "output_type": "stream",
     "text": [
      "put number 1 or 2: 1\n"
     ]
    },
    {
     "name": "stdout",
     "output_type": "stream",
     "text": [
      "1\n",
      "3\n",
      "5\n",
      "7\n",
      "9\n",
      "11\n",
      "13\n",
      "15\n",
      "17\n",
      "19\n",
      "21\n",
      "23\n",
      "25\n",
      "27\n",
      "29\n",
      "31\n",
      "33\n",
      "35\n",
      "37\n",
      "39\n",
      "41\n",
      "43\n",
      "45\n",
      "47\n",
      "49\n",
      "51\n",
      "53\n",
      "55\n",
      "57\n",
      "59\n",
      "61\n",
      "63\n",
      "65\n",
      "67\n",
      "69\n",
      "71\n",
      "73\n",
      "75\n",
      "77\n",
      "79\n",
      "81\n",
      "83\n",
      "85\n",
      "87\n",
      "89\n",
      "91\n",
      "93\n",
      "95\n",
      "97\n",
      "99\n"
     ]
    }
   ],
   "source": [
    "#create even and odd numbers\n",
    "i = int(input('put number 1 or 2:'))\n",
    "for a in range(i, 100+1, 2):\n",
    "    print(a)"
   ]
  },
  {
   "cell_type": "code",
   "execution_count": 12,
   "id": "1d26a6ec-9082-4186-b1c7-68a34d1ea4d2",
   "metadata": {},
   "outputs": [
    {
     "name": "stdin",
     "output_type": "stream",
     "text": [
      "last digit: 4\n",
      "skip num: 3\n"
     ]
    },
    {
     "name": "stdout",
     "output_type": "stream",
     "text": [
      "1\n",
      "2\n",
      "4\n"
     ]
    }
   ],
   "source": [
    "#ending a loop with break\n",
    "a = int(input('last digit:'))\n",
    "b = int(input('skip num:'))\n",
    "\n",
    "for i in range(1,a+1):\n",
    "    if(i == b):\n",
    "        continue\n",
    "    print(i)"
   ]
  },
  {
   "cell_type": "code",
   "execution_count": 35,
   "id": "c32a642a-1877-4d44-8ad3-cef0d5ba6258",
   "metadata": {},
   "outputs": [
    {
     "name": "stdout",
     "output_type": "stream",
     "text": [
      "1x1=1\n",
      "1x2=2\n",
      "1x3=3\n",
      "1x4=4\n",
      "1x5=5\n",
      "1x6=6\n",
      "1x7=7\n",
      "1x8=8\n",
      "1x9=9\n",
      "2x1=2\n",
      "2x2=4\n",
      "2x3=6\n",
      "2x4=8\n",
      "2x5=10\n",
      "2x6=12\n",
      "2x7=14\n",
      "2x8=16\n",
      "2x9=18\n",
      "3x1=3\n",
      "3x2=6\n",
      "3x3=9\n",
      "3x4=12\n",
      "3x5=15\n",
      "3x6=18\n",
      "3x7=21\n",
      "3x8=24\n",
      "3x9=27\n",
      "4x1=4\n",
      "4x2=8\n",
      "4x3=12\n",
      "4x4=16\n",
      "4x5=20\n",
      "4x6=24\n",
      "4x7=28\n",
      "4x8=32\n",
      "4x9=36\n",
      "5x1=5\n",
      "5x2=10\n",
      "5x3=15\n",
      "5x4=20\n",
      "5x5=25\n",
      "5x6=30\n",
      "5x7=35\n",
      "5x8=40\n",
      "5x9=45\n",
      "6x1=6\n",
      "6x2=12\n",
      "6x3=18\n",
      "6x4=24\n",
      "6x5=30\n",
      "6x6=36\n",
      "6x7=42\n",
      "6x8=48\n",
      "6x9=54\n",
      "7x1=7\n",
      "7x2=14\n",
      "7x3=21\n",
      "7x4=28\n",
      "7x5=35\n",
      "7x6=42\n",
      "7x7=49\n",
      "7x8=56\n",
      "7x9=63\n",
      "8x1=8\n",
      "8x2=16\n",
      "8x3=24\n",
      "8x4=32\n",
      "8x5=40\n",
      "8x6=48\n",
      "8x7=56\n",
      "8x8=64\n",
      "8x9=72\n",
      "9x1=9\n",
      "9x2=18\n",
      "9x3=27\n",
      "9x4=36\n",
      "9x5=45\n",
      "9x6=54\n",
      "9x7=63\n",
      "9x8=72\n",
      "9x9=81\n"
     ]
    }
   ],
   "source": [
    "#printing multiples\n",
    "for x in range(1, 10):\n",
    "    for y in range(1, 10):\n",
    "        print(f\"{x}x{y}={x*y}\")"
   ]
  },
  {
   "cell_type": "code",
   "execution_count": 36,
   "id": "eda4e001-54e3-4170-a353-d61d36232a6f",
   "metadata": {},
   "outputs": [],
   "source": [
    "#calculating the greatest common divisor <-얘 수학을 모르겠노"
   ]
  },
  {
   "cell_type": "code",
   "execution_count": null,
   "id": "3ab72fd8-5dd8-45cc-bd37-0d3ac914fa87",
   "metadata": {},
   "outputs": [],
   "source": []
  }
 ],
 "metadata": {
  "kernelspec": {
   "display_name": "Python 3 (ipykernel)",
   "language": "python",
   "name": "python3"
  },
  "language_info": {
   "codemirror_mode": {
    "name": "ipython",
    "version": 3
   },
   "file_extension": ".py",
   "mimetype": "text/x-python",
   "name": "python",
   "nbconvert_exporter": "python",
   "pygments_lexer": "ipython3",
   "version": "3.13.5"
  }
 },
 "nbformat": 4,
 "nbformat_minor": 5
}
