{
 "cells": [
  {
   "cell_type": "code",
   "execution_count": 1,
   "id": "4f4f3df9-446e-4a2a-9c16-94dd3e17145f",
   "metadata": {},
   "outputs": [],
   "source": [
    "import turtle\n",
    "turtle.forward(100)\n",
    "turtle.left(90)\n",
    "turtle.forward(100)\n",
    "turtle.right(90)\n",
    "turtle.back(100)"
   ]
  },
  {
   "cell_type": "code",
   "execution_count": 1,
   "id": "301e8519-975f-420a-9869-d85195a53617",
   "metadata": {},
   "outputs": [],
   "source": [
    "import turtle\n",
    "turtle.forward(100)\n",
    "turtle.right(90)\n",
    "turtle.penup()\n",
    "turtle.forward(50)\n",
    "turtle.left(90)\n",
    "turtle.pendown()\n",
    "turtle.back(100)"
   ]
  },
  {
   "cell_type": "code",
   "execution_count": 10,
   "id": "a74e7ca1-f0fe-49c7-ae5b-1bafc71a2e33",
   "metadata": {},
   "outputs": [],
   "source": [
    "import turtle\n",
    "turtle.forward(100)\n",
    "turtle.penup()\n",
    "turtle.goto(0,-50)\n",
    "turtle.pendown()\n",
    "turtle.back(100)"
   ]
  },
  {
   "cell_type": "code",
   "execution_count": 12,
   "id": "771107e1-e8d4-4c98-ac6a-259c8fe2592e",
   "metadata": {},
   "outputs": [],
   "source": [
    "import turtle\n",
    "for i in range(4):#square\n",
    "    turtle.forward(100)\n",
    "    turtle.left(90)\n",
    "\n",
    "turtle.penup()\n",
    "turtle.goto(150,0)\n",
    "turtle.pendown()\n",
    "for j in range(4):\n",
    "    turtle.forward(100)\n",
    "    turtle.left(90)"
   ]
  },
  {
   "cell_type": "code",
   "execution_count": 14,
   "id": "e6802d08-44d7-413e-840e-fdb282d49602",
   "metadata": {},
   "outputs": [],
   "source": [
    "import turtle\n",
    "for n in range(360):#circle\n",
    "    turtle.forward(1)\n",
    "    turtle.left(1)"
   ]
  },
  {
   "cell_type": "code",
   "execution_count": 15,
   "id": "c312feb2-92b5-488b-b6e2-c390caf04bd8",
   "metadata": {},
   "outputs": [],
   "source": [
    "#prob. 별 그리기(이건 외우는거 아니면, 정확하게는 모르겠는데?)(코드 보고 그림 그리기는 가능)\n",
    "import turtle\n",
    "for i in range(5):\n",
    "    turtle.forward(100)\n",
    "    turtle.left(144)"
   ]
  },
  {
   "cell_type": "code",
   "execution_count": 20,
   "id": "3ba30db4-ece4-4ff8-9297-96170a73fb47",
   "metadata": {},
   "outputs": [],
   "source": [
    "import turtle as t\n",
    "t.back(200)\n",
    "t.shape('turtle')\n",
    "t.pensize(10)\n",
    "t.pencolor('yellow')\n",
    "t.forward(100)\n",
    "t.pensize(30)\n",
    "t.pencolor('brown')\n",
    "t.back(100)"
   ]
  },
  {
   "cell_type": "code",
   "execution_count": 25,
   "id": "f8a477f9-09cd-44e7-b9d2-aabdcea16d08",
   "metadata": {},
   "outputs": [
    {
     "ename": "Terminator",
     "evalue": "",
     "output_type": "error",
     "traceback": [
      "\u001b[1;31m---------------------------------------------------------------------------\u001b[0m",
      "\u001b[1;31mTerminator\u001b[0m                                Traceback (most recent call last)",
      "Cell \u001b[1;32mIn[25], line 9\u001b[0m\n\u001b[0;32m      7\u001b[0m t\u001b[38;5;241m.\u001b[39mpensize(i\u001b[38;5;241m/\u001b[39m\u001b[38;5;241m20\u001b[39m)\n\u001b[0;32m      8\u001b[0m t\u001b[38;5;241m.\u001b[39mforward(i\u001b[38;5;241m/\u001b[39m\u001b[38;5;241m100\u001b[39m)\n\u001b[1;32m----> 9\u001b[0m t\u001b[38;5;241m.\u001b[39mleft(\u001b[38;5;241m10\u001b[39m)\n",
      "File \u001b[1;32m<string>:8\u001b[0m, in \u001b[0;36mleft\u001b[1;34m(angle)\u001b[0m\n",
      "File \u001b[1;32m~\\Contacts\\anaconda3\\Lib\\turtle.py:1697\u001b[0m, in \u001b[0;36mTNavigator.left\u001b[1;34m(self, angle)\u001b[0m\n\u001b[0;32m   1678\u001b[0m \u001b[38;5;28;01mdef\u001b[39;00m\u001b[38;5;250m \u001b[39m\u001b[38;5;21mleft\u001b[39m(\u001b[38;5;28mself\u001b[39m, angle):\n\u001b[0;32m   1679\u001b[0m \u001b[38;5;250m    \u001b[39m\u001b[38;5;124;03m\"\"\"Turn turtle left by angle units.\u001b[39;00m\n\u001b[0;32m   1680\u001b[0m \n\u001b[0;32m   1681\u001b[0m \u001b[38;5;124;03m    Aliases: left | lt\u001b[39;00m\n\u001b[1;32m   (...)\u001b[0m\n\u001b[0;32m   1695\u001b[0m \u001b[38;5;124;03m    67.0\u001b[39;00m\n\u001b[0;32m   1696\u001b[0m \u001b[38;5;124;03m    \"\"\"\u001b[39;00m\n\u001b[1;32m-> 1697\u001b[0m     \u001b[38;5;28mself\u001b[39m\u001b[38;5;241m.\u001b[39m_rotate(angle)\n",
      "File \u001b[1;32m~\\Contacts\\anaconda3\\Lib\\turtle.py:3317\u001b[0m, in \u001b[0;36mRawTurtle._rotate\u001b[1;34m(self, angle)\u001b[0m\n\u001b[0;32m   3315\u001b[0m     \u001b[38;5;28;01mfor\u001b[39;00m _ \u001b[38;5;129;01min\u001b[39;00m \u001b[38;5;28mrange\u001b[39m(steps):\n\u001b[0;32m   3316\u001b[0m         \u001b[38;5;28mself\u001b[39m\u001b[38;5;241m.\u001b[39m_orient \u001b[38;5;241m=\u001b[39m \u001b[38;5;28mself\u001b[39m\u001b[38;5;241m.\u001b[39m_orient\u001b[38;5;241m.\u001b[39mrotate(delta)\n\u001b[1;32m-> 3317\u001b[0m         \u001b[38;5;28mself\u001b[39m\u001b[38;5;241m.\u001b[39m_update()\n\u001b[0;32m   3318\u001b[0m \u001b[38;5;28mself\u001b[39m\u001b[38;5;241m.\u001b[39m_orient \u001b[38;5;241m=\u001b[39m neworient\n\u001b[0;32m   3319\u001b[0m \u001b[38;5;28mself\u001b[39m\u001b[38;5;241m.\u001b[39m_update()\n",
      "File \u001b[1;32m~\\Contacts\\anaconda3\\Lib\\turtle.py:2667\u001b[0m, in \u001b[0;36mRawTurtle._update\u001b[1;34m(self)\u001b[0m\n\u001b[0;32m   2665\u001b[0m     \u001b[38;5;28;01mreturn\u001b[39;00m\n\u001b[0;32m   2666\u001b[0m \u001b[38;5;28;01melif\u001b[39;00m screen\u001b[38;5;241m.\u001b[39m_tracing \u001b[38;5;241m==\u001b[39m \u001b[38;5;241m1\u001b[39m:\n\u001b[1;32m-> 2667\u001b[0m     \u001b[38;5;28mself\u001b[39m\u001b[38;5;241m.\u001b[39m_update_data()\n\u001b[0;32m   2668\u001b[0m     \u001b[38;5;28mself\u001b[39m\u001b[38;5;241m.\u001b[39m_drawturtle()\n\u001b[0;32m   2669\u001b[0m     screen\u001b[38;5;241m.\u001b[39m_update()                  \u001b[38;5;66;03m# TurtleScreenBase\u001b[39;00m\n",
      "File \u001b[1;32m~\\Contacts\\anaconda3\\Lib\\turtle.py:2653\u001b[0m, in \u001b[0;36mRawTurtle._update_data\u001b[1;34m(self)\u001b[0m\n\u001b[0;32m   2652\u001b[0m \u001b[38;5;28;01mdef\u001b[39;00m\u001b[38;5;250m \u001b[39m\u001b[38;5;21m_update_data\u001b[39m(\u001b[38;5;28mself\u001b[39m):\n\u001b[1;32m-> 2653\u001b[0m     \u001b[38;5;28mself\u001b[39m\u001b[38;5;241m.\u001b[39mscreen\u001b[38;5;241m.\u001b[39m_incrementudc()\n\u001b[0;32m   2654\u001b[0m     \u001b[38;5;28;01mif\u001b[39;00m \u001b[38;5;28mself\u001b[39m\u001b[38;5;241m.\u001b[39mscreen\u001b[38;5;241m.\u001b[39m_updatecounter \u001b[38;5;241m!=\u001b[39m \u001b[38;5;241m0\u001b[39m:\n\u001b[0;32m   2655\u001b[0m         \u001b[38;5;28;01mreturn\u001b[39;00m\n",
      "File \u001b[1;32m~\\Contacts\\anaconda3\\Lib\\turtle.py:1283\u001b[0m, in \u001b[0;36mTurtleScreen._incrementudc\u001b[1;34m(self)\u001b[0m\n\u001b[0;32m   1281\u001b[0m \u001b[38;5;28;01mif\u001b[39;00m \u001b[38;5;129;01mnot\u001b[39;00m TurtleScreen\u001b[38;5;241m.\u001b[39m_RUNNING:\n\u001b[0;32m   1282\u001b[0m     TurtleScreen\u001b[38;5;241m.\u001b[39m_RUNNING \u001b[38;5;241m=\u001b[39m \u001b[38;5;28;01mTrue\u001b[39;00m\n\u001b[1;32m-> 1283\u001b[0m     \u001b[38;5;28;01mraise\u001b[39;00m Terminator\n\u001b[0;32m   1284\u001b[0m \u001b[38;5;28;01mif\u001b[39;00m \u001b[38;5;28mself\u001b[39m\u001b[38;5;241m.\u001b[39m_tracing \u001b[38;5;241m>\u001b[39m \u001b[38;5;241m0\u001b[39m:\n\u001b[0;32m   1285\u001b[0m     \u001b[38;5;28mself\u001b[39m\u001b[38;5;241m.\u001b[39m_updatecounter \u001b[38;5;241m+\u001b[39m\u001b[38;5;241m=\u001b[39m \u001b[38;5;241m1\u001b[39m\n",
      "\u001b[1;31mTerminator\u001b[0m: "
     ]
    }
   ],
   "source": [
    "#practice\n",
    "import turtle as t\n",
    "t.shape('circle')\n",
    "t.bg=('pink')\n",
    "t.pencolor('blue')\n",
    "for i in range(1000):\n",
    "    t.pensize(i/20)\n",
    "    t.forward(i/100)\n",
    "    t.left(10)"
   ]
  },
  {
   "cell_type": "code",
   "execution_count": 28,
   "id": "5b7ce1f2-deea-4bee-ab72-1a6abce6d565",
   "metadata": {},
   "outputs": [],
   "source": [
    "import turtle as t\n",
    "t.reset()\n",
    "t.color('red','blue')\n",
    "t.begin_fill()\n",
    "t.goto(0,30)\n",
    "t.circle(30)\n",
    "t.end_fill()"
   ]
  },
  {
   "cell_type": "code",
   "execution_count": 34,
   "id": "41c3bc6d-1d99-4082-8b2d-30cf1911b31f",
   "metadata": {},
   "outputs": [],
   "source": [
    "import turtle as t\n",
    "t.reset()\n",
    "t.penup()\n",
    "t.goto(0,30)\n",
    "t.speed(4)\n",
    "t.pensize(5)\n",
    "t.pendown()\n",
    "t.color('black','pink')\n",
    "t.begin_fill()\n",
    "for i in range(4):\n",
    "    t.forward(100)\n",
    "    t.left(90)\n",
    "t.end_fill()\n",
    "t.penup()\n",
    "t.goto(0,-30)\n",
    "t.title(\"title bar\")"
   ]
  },
  {
   "cell_type": "code",
   "execution_count": null,
   "id": "d9bae574-5748-4a62-ad50-16b62d30d401",
   "metadata": {},
   "outputs": [],
   "source": []
  }
 ],
 "metadata": {
  "kernelspec": {
   "display_name": "Python 3 (ipykernel)",
   "language": "python",
   "name": "python3"
  },
  "language_info": {
   "codemirror_mode": {
    "name": "ipython",
    "version": 3
   },
   "file_extension": ".py",
   "mimetype": "text/x-python",
   "name": "python",
   "nbconvert_exporter": "python",
   "pygments_lexer": "ipython3",
   "version": "3.13.5"
  }
 },
 "nbformat": 4,
 "nbformat_minor": 5
}
