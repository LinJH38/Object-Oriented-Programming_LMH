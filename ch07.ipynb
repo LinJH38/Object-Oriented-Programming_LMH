{
 "cells": [
  {
   "cell_type": "code",
   "execution_count": 1,
   "id": "47c15b9e-555a-449c-b5fe-e0870a68d8f5",
   "metadata": {},
   "outputs": [
    {
     "data": {
      "text/plain": [
       "['l', 'i', 'n', 'z', 'a', 'x', 'u', 'a', 'n']"
      ]
     },
     "execution_count": 1,
     "metadata": {},
     "output_type": "execute_result"
    }
   ],
   "source": [
    "a_str = list('linzaxuan')\n",
    "a_str"
   ]
  },
  {
   "cell_type": "code",
   "execution_count": 2,
   "id": "8aa5216c-27d3-4f58-a199-e3d59e5ac1ec",
   "metadata": {},
   "outputs": [
    {
     "data": {
      "text/plain": [
       "[1,\n",
       " 3,\n",
       " 5,\n",
       " 7,\n",
       " 9,\n",
       " 11,\n",
       " 13,\n",
       " 15,\n",
       " 17,\n",
       " 19,\n",
       " 21,\n",
       " 23,\n",
       " 25,\n",
       " 27,\n",
       " 29,\n",
       " 31,\n",
       " 33,\n",
       " 35,\n",
       " 37,\n",
       " 39,\n",
       " 41,\n",
       " 43,\n",
       " 45,\n",
       " 47,\n",
       " 49,\n",
       " 51,\n",
       " 53,\n",
       " 55,\n",
       " 57,\n",
       " 59,\n",
       " 61,\n",
       " 63,\n",
       " 65,\n",
       " 67,\n",
       " 69,\n",
       " 71,\n",
       " 73,\n",
       " 75,\n",
       " 77,\n",
       " 79,\n",
       " 81,\n",
       " 83,\n",
       " 85,\n",
       " 87,\n",
       " 89,\n",
       " 91,\n",
       " 93,\n",
       " 95,\n",
       " 97,\n",
       " 99]"
      ]
     },
     "execution_count": 2,
     "metadata": {},
     "output_type": "execute_result"
    }
   ],
   "source": [
    "b = list(range(1,101,2))\n"
   ]
  },
  {
   "cell_type": "code",
   "execution_count": 4,
   "id": "702eec67-cba5-4987-961d-f83a1b81e3d8",
   "metadata": {},
   "outputs": [
    {
     "data": {
      "text/plain": [
       "'lin3333333333'"
      ]
     },
     "execution_count": 4,
     "metadata": {},
     "output_type": "execute_result"
    }
   ],
   "source": [
    "a = ['lin', 'za', 'xuan', 3, 8]\n",
    "a[0]+str(a[3])*10"
   ]
  },
  {
   "cell_type": "code",
   "execution_count": 5,
   "id": "ec44aa07-5a29-4f85-abb9-3bccd38cc144",
   "metadata": {},
   "outputs": [
    {
     "name": "stdout",
     "output_type": "stream",
     "text": [
      "['lin', 'za', 'xuan']\n",
      "['xuan', 3, 8]\n",
      "['za', 'xuan', 3]\n"
     ]
    }
   ],
   "source": [
    "print(a[:3])\n",
    "print(a[-3:])\n",
    "print(a[1:4])"
   ]
  },
  {
   "cell_type": "code",
   "execution_count": 6,
   "id": "43c24aff-fe75-40fc-a4ee-f7244bd25c6f",
   "metadata": {},
   "outputs": [
    {
     "name": "stdout",
     "output_type": "stream",
     "text": [
      "hel\n",
      " is\n",
      "ell\n"
     ]
    }
   ],
   "source": [
    "lin_str = 'hello my name is'\n",
    "print(lin_str[:3])\n",
    "print(lin_str[-3:])\n",
    "print(lin_str[1:4])"
   ]
  },
  {
   "cell_type": "code",
   "execution_count": 9,
   "id": "7c36205d-aa0c-4e78-91aa-c302e4712ac5",
   "metadata": {},
   "outputs": [
    {
     "name": "stdout",
     "output_type": "stream",
     "text": [
      "h\n"
     ]
    }
   ],
   "source": [
    "within_list = ['a','b','c',['d','e','f',['g','h','i']]]\n",
    "print(within_list[3][3][1])"
   ]
  },
  {
   "cell_type": "code",
   "execution_count": 17,
   "id": "b554fe32-44b4-437a-b91a-7a2032434939",
   "metadata": {},
   "outputs": [
    {
     "data": {
      "text/plain": [
       "['banana', 'apple', 'orange']"
      ]
     },
     "execution_count": 17,
     "metadata": {},
     "output_type": "execute_result"
    }
   ],
   "source": [
    "A = ['banana', 'apple', 'orange']\n",
    "A"
   ]
  },
  {
   "cell_type": "code",
   "execution_count": 18,
   "id": "e74ed4fc-c38d-4655-ab4e-06a81e125877",
   "metadata": {},
   "outputs": [
    {
     "data": {
      "text/plain": [
       "['banana', 'apple', 'orange', 'pizza', 'hambarge', 'mash']"
      ]
     },
     "execution_count": 18,
     "metadata": {},
     "output_type": "execute_result"
    }
   ],
   "source": [
    "B = ['pizza', 'hambarge', 'mash']\n",
    "C = A+B\n",
    "C"
   ]
  },
  {
   "cell_type": "code",
   "execution_count": 19,
   "id": "b06b50ad-ab15-4df6-b612-b8a72158e548",
   "metadata": {},
   "outputs": [
    {
     "data": {
      "text/plain": [
       "['banana', 'apple', 'samsung', 'pizza', 'hambarge', 'mash']"
      ]
     },
     "execution_count": 19,
     "metadata": {},
     "output_type": "execute_result"
    }
   ],
   "source": [
    "C[2] = 'samsung'\n",
    "C"
   ]
  },
  {
   "cell_type": "code",
   "execution_count": 20,
   "id": "2c2866fc-ca11-47a4-b0a6-8573c0e08ea4",
   "metadata": {},
   "outputs": [
    {
     "data": {
      "text/plain": [
       "['banana', 'apple', 'samsung']"
      ]
     },
     "execution_count": 20,
     "metadata": {},
     "output_type": "execute_result"
    }
   ],
   "source": [
    "del C[3:]\n",
    "C"
   ]
  },
  {
   "cell_type": "code",
   "execution_count": 29,
   "id": "3bb9c24d-7607-4488-abaa-7ccf2ac41864",
   "metadata": {},
   "outputs": [
    {
     "data": {
      "text/plain": [
       "[1, 2, 3, 4, 5]"
      ]
     },
     "execution_count": 29,
     "metadata": {},
     "output_type": "execute_result"
    }
   ],
   "source": [
    "a = [3,2,1,5,4]\n",
    "a.sort()\n",
    "a.sort(reverse=True)\n",
    "a.sort()\n",
    "#a.sort(reverse=True)\n",
    "a"
   ]
  },
  {
   "cell_type": "code",
   "execution_count": 30,
   "id": "25cf5f90-cc0b-4ebf-9eb2-815e89625f68",
   "metadata": {},
   "outputs": [
    {
     "data": {
      "text/plain": [
       "['hong', 'heo', 'gyun', 'lee']"
      ]
     },
     "execution_count": 30,
     "metadata": {},
     "output_type": "execute_result"
    }
   ],
   "source": [
    "name_list = ['hong', 'heo', 'gyun']\n",
    "name_list.append('lee')\n",
    "name_list"
   ]
  },
  {
   "cell_type": "code",
   "execution_count": 31,
   "id": "9db84945-ac47-4ae9-b112-8f7029c21177",
   "metadata": {},
   "outputs": [
    {
     "data": {
      "text/plain": [
       "['hong', 'heo', 'heo', 'gyun', 'lee']"
      ]
     },
     "execution_count": 31,
     "metadata": {},
     "output_type": "execute_result"
    }
   ],
   "source": [
    "heo = name_list.index('heo')\n",
    "name_list.insert(heo, 'heo')\n",
    "name_list"
   ]
  },
  {
   "cell_type": "code",
   "execution_count": 32,
   "id": "5235ec1d-5f32-44d5-833d-218fdb6274e3",
   "metadata": {},
   "outputs": [
    {
     "data": {
      "text/plain": [
       "['lee', 'gyun', 'heo', 'heo', 'hong']"
      ]
     },
     "execution_count": 32,
     "metadata": {},
     "output_type": "execute_result"
    }
   ],
   "source": [
    "name_list.reverse()\n",
    "name_list"
   ]
  },
  {
   "cell_type": "code",
   "execution_count": 33,
   "id": "f920d140-aaad-468d-a220-38dae14da86c",
   "metadata": {},
   "outputs": [
    {
     "data": {
      "text/plain": [
       "['lee', 'gyun', 'heo', 'heo']"
      ]
     },
     "execution_count": 33,
     "metadata": {},
     "output_type": "execute_result"
    }
   ],
   "source": [
    "hong = name_list.index('hong')\n",
    "name_list.remove('hong')\n",
    "name_list"
   ]
  },
  {
   "cell_type": "code",
   "execution_count": 34,
   "id": "81130f47-2418-40cd-9d9f-39f724738d76",
   "metadata": {},
   "outputs": [],
   "source": [
    "name_list.remove(name_list[1])"
   ]
  },
  {
   "cell_type": "code",
   "execution_count": 35,
   "id": "43c1af78-5d94-456f-a30f-25679027b5c6",
   "metadata": {},
   "outputs": [
    {
     "data": {
      "text/plain": [
       "['lee', 'heo', 'heo']"
      ]
     },
     "execution_count": 35,
     "metadata": {},
     "output_type": "execute_result"
    }
   ],
   "source": [
    "name_list"
   ]
  },
  {
   "cell_type": "code",
   "execution_count": 37,
   "id": "761a323d-5634-4985-a3ce-0264f99678a6",
   "metadata": {},
   "outputs": [
    {
     "data": {
      "text/plain": [
       "{'name': 'lin', 'phone': '01088202023', 'job': 'student', 'address': 'busan'}"
      ]
     },
     "execution_count": 37,
     "metadata": {},
     "output_type": "execute_result"
    }
   ],
   "source": [
    "dic_person = {'name':'lin','phone': '01088202023', 'job':'student', 'address':'busan'}\n",
    "dic_person"
   ]
  },
  {
   "cell_type": "code",
   "execution_count": 38,
   "id": "58f14a78-d491-4940-9522-058f84d6393e",
   "metadata": {},
   "outputs": [
    {
     "data": {
      "text/plain": [
       "'lin'"
      ]
     },
     "execution_count": 38,
     "metadata": {},
     "output_type": "execute_result"
    }
   ],
   "source": [
    "dic_person['name']"
   ]
  },
  {
   "cell_type": "code",
   "execution_count": 40,
   "id": "77c51f5e-7d6d-4924-916c-94dfb773a641",
   "metadata": {},
   "outputs": [
    {
     "data": {
      "text/plain": [
       "1"
      ]
     },
     "execution_count": 40,
     "metadata": {},
     "output_type": "execute_result"
    }
   ],
   "source": [
    "dic_qes = {'lin':(1,2,3,4,5), 'kim':(6,7,8,9.10),'sung':(11,12,13,14,51)}\n",
    "dic_qes['lin'][0]"
   ]
  },
  {
   "cell_type": "code",
   "execution_count": 42,
   "id": "e0d1f4a3-7d49-4992-9acc-cf18506a1b4d",
   "metadata": {},
   "outputs": [
    {
     "data": {
      "text/plain": [
       "{'lin': (1, 2, 3, 4, 5),\n",
       " 'kim': (6, 7, 8, 9.1),\n",
       " 'sung': (11, 12, 13, 14, 51),\n",
       " 'bruh': ('im', 'su', 5)}"
      ]
     },
     "execution_count": 42,
     "metadata": {},
     "output_type": "execute_result"
    }
   ],
   "source": [
    "dic_qes['bruh']=('im','su',5)\n",
    "dic_qes"
   ]
  },
  {
   "cell_type": "code",
   "execution_count": 56,
   "id": "5450d49e-ec17-4b78-a999-c1d1e08f5e84",
   "metadata": {},
   "outputs": [
    {
     "ename": "KeyError",
     "evalue": "'kim'",
     "output_type": "error",
     "traceback": [
      "\u001b[1;31m---------------------------------------------------------------------------\u001b[0m",
      "\u001b[1;31mKeyError\u001b[0m                                  Traceback (most recent call last)",
      "Cell \u001b[1;32mIn[56], line 1\u001b[0m\n\u001b[1;32m----> 1\u001b[0m \u001b[38;5;28;01mdel\u001b[39;00m dic_qes[\u001b[38;5;124m'\u001b[39m\u001b[38;5;124mkim\u001b[39m\u001b[38;5;124m'\u001b[39m]\n\u001b[0;32m      2\u001b[0m dic_qes\n",
      "\u001b[1;31mKeyError\u001b[0m: 'kim'"
     ]
    }
   ],
   "source": [
    "del dic_qes['kim']\n",
    "dic_qes"
   ]
  },
  {
   "cell_type": "code",
   "execution_count": 57,
   "id": "c3651e51-34b8-4b83-923f-2e6df262ba10",
   "metadata": {},
   "outputs": [
    {
     "data": {
      "text/plain": [
       "{'gang': 'gujin', 'eulji': 'salsu', 'king': 'zip', 'seo': 'gangdong'}"
      ]
     },
     "execution_count": 57,
     "metadata": {},
     "output_type": "execute_result"
    }
   ],
   "source": [
    "history = {'gang':'gujin', 'eulji':'salsu', 'king':'zip'}\n",
    "history['seo'] = 'gangdong'\n",
    "history"
   ]
  },
  {
   "cell_type": "code",
   "execution_count": 58,
   "id": "dfeb5be4-44d3-4803-b7e0-a2a18bd154b9",
   "metadata": {},
   "outputs": [
    {
     "data": {
      "text/plain": [
       "{'gang': 'gujin', 'eulji': 'salsu', 'king': 'hangul', 'seo': 'gangdong'}"
      ]
     },
     "execution_count": 58,
     "metadata": {},
     "output_type": "execute_result"
    }
   ],
   "source": [
    "history['king'] = 'hangul'\n",
    "history"
   ]
  },
  {
   "cell_type": "code",
   "execution_count": 59,
   "id": "7954b314-1e1f-4948-a59c-765c7ae8e472",
   "metadata": {},
   "outputs": [],
   "source": [
    "#del history['eulji']\n",
    "#history.pop('king')"
   ]
  },
  {
   "cell_type": "code",
   "execution_count": 104,
   "id": "09e5a1b3-b827-4221-bbc4-0e878af02c90",
   "metadata": {},
   "outputs": [
    {
     "ename": "AttributeError",
     "evalue": "'dict' object has no attribute 'append'",
     "output_type": "error",
     "traceback": [
      "\u001b[1;31m---------------------------------------------------------------------------\u001b[0m",
      "\u001b[1;31mAttributeError\u001b[0m                            Traceback (most recent call last)",
      "Cell \u001b[1;32mIn[104], line 2\u001b[0m\n\u001b[0;32m      1\u001b[0m a \u001b[38;5;241m=\u001b[39m {\u001b[38;5;241m1\u001b[39m:\u001b[38;5;241m1\u001b[39m, \u001b[38;5;241m2\u001b[39m:\u001b[38;5;241m2\u001b[39m, \u001b[38;5;241m3\u001b[39m:\u001b[38;5;241m3\u001b[39m}\n\u001b[1;32m----> 2\u001b[0m a\u001b[38;5;241m.\u001b[39mappend({\u001b[38;5;124m'\u001b[39m\u001b[38;5;124m4\u001b[39m\u001b[38;5;124m'\u001b[39m:\u001b[38;5;241m1\u001b[39m})\n\u001b[0;32m      3\u001b[0m a\n",
      "\u001b[1;31mAttributeError\u001b[0m: 'dict' object has no attribute 'append'"
     ]
    }
   ],
   "source": [
    "a = {1:1, 2:2, 3:3}\n",
    "a.append({'4':1})\n",
    "a"
   ]
  },
  {
   "cell_type": "code",
   "execution_count": 60,
   "id": "a05ef092-469b-4f64-9c26-8cd724a32462",
   "metadata": {},
   "outputs": [],
   "source": [
    "#history.clear()"
   ]
  },
  {
   "cell_type": "code",
   "execution_count": 61,
   "id": "4c8bdf2e-c877-4ef2-bb03-a0eb5132b5b9",
   "metadata": {},
   "outputs": [
    {
     "data": {
      "text/plain": [
       "{'gang': 'gujin', 'eulji': 'salsu', 'king': 'hangul', 'seo': 'gangdong'}"
      ]
     },
     "execution_count": 61,
     "metadata": {},
     "output_type": "execute_result"
    }
   ],
   "source": [
    "history"
   ]
  },
  {
   "cell_type": "code",
   "execution_count": 63,
   "id": "10a7c142-bf2d-429a-88b2-812e964f058a",
   "metadata": {},
   "outputs": [
    {
     "data": {
      "text/plain": [
       "dict_items([('gang', 'gujin'), ('eulji', 'salsu'), ('king', 'hangul'), ('seo', 'gangdong')])"
      ]
     },
     "execution_count": 63,
     "metadata": {},
     "output_type": "execute_result"
    }
   ],
   "source": [
    "history.items()"
   ]
  },
  {
   "cell_type": "code",
   "execution_count": 65,
   "id": "09dfd438-3e1e-4612-b8c6-afe9e84a6e65",
   "metadata": {},
   "outputs": [
    {
     "data": {
      "text/plain": [
       "dict_keys(['gang', 'eulji', 'king', 'seo'])"
      ]
     },
     "execution_count": 65,
     "metadata": {},
     "output_type": "execute_result"
    }
   ],
   "source": [
    "history.keys()"
   ]
  },
  {
   "cell_type": "code",
   "execution_count": 66,
   "id": "52504529-99c1-4bd0-92d0-34aafd3417f0",
   "metadata": {},
   "outputs": [
    {
     "data": {
      "text/plain": [
       "dict_values(['gujin', 'salsu', 'hangul', 'gangdong'])"
      ]
     },
     "execution_count": 66,
     "metadata": {},
     "output_type": "execute_result"
    }
   ],
   "source": [
    "history.values()"
   ]
  },
  {
   "cell_type": "code",
   "execution_count": 75,
   "id": "6e4304ab-55e6-4f65-aa5f-923c791b2da7",
   "metadata": {},
   "outputs": [
    {
     "name": "stdout",
     "output_type": "stream",
     "text": [
      "sdsa\n"
     ]
    }
   ],
   "source": [
    "print('sds{0}'.format('a'))"
   ]
  },
  {
   "cell_type": "code",
   "execution_count": null,
   "id": "f28b4d49-e3b4-4ea7-8bec-a53db2ccdde3",
   "metadata": {},
   "outputs": [],
   "source": []
  },
  {
   "cell_type": "code",
   "execution_count": 72,
   "id": "0aa956fb-99dc-4729-b26c-0494200bc163",
   "metadata": {},
   "outputs": [
    {
     "name": "stdin",
     "output_type": "stream",
     "text": [
      "put a s e d\n"
     ]
    },
    {
     "name": "stdout",
     "output_type": "stream",
     "text": [
      "a s e d\n"
     ]
    },
    {
     "data": {
      "text/plain": [
       "str"
      ]
     },
     "execution_count": 72,
     "metadata": {},
     "output_type": "execute_result"
    }
   ],
   "source": [
    "a = input('put')\n",
    "print(a)\n",
    "type(a)"
   ]
  },
  {
   "cell_type": "code",
   "execution_count": null,
   "id": "22ad582d-f5b2-40b4-95ef-54c08217793b",
   "metadata": {},
   "outputs": [],
   "source": []
  },
  {
   "cell_type": "code",
   "execution_count": 69,
   "id": "0523ad1e-c1c5-46a1-920a-7fa41cc064a5",
   "metadata": {},
   "outputs": [
    {
     "name": "stdout",
     "output_type": "stream",
     "text": [
      "now students ['lee', 'hwang', 'won']\n"
     ]
    },
    {
     "name": "stdin",
     "output_type": "stream",
     "text": [
      "new student euw\n"
     ]
    },
    {
     "name": "stdout",
     "output_type": "stream",
     "text": [
      "['lee', 'hwang', 'won', 'euw']\n",
      "sorting...\n",
      "1 euw\n",
      "2 hwang\n",
      "3 lee\n",
      "4 won\n"
     ]
    }
   ],
   "source": [
    "#list prob. 출석 번호 재정렬\n",
    "students_list = ['lee','hwang','won']\n",
    "print('now students', students_list)\n",
    "news = input('new student')\n",
    "students_list.append(news)\n",
    "print(students_list)\n",
    "print('sorting...')\n",
    "students_list.sort()\n",
    "for i in range(1,5,1):\n",
    "    print(i, students_list[i-1])\n"
   ]
  },
  {
   "cell_type": "code",
   "execution_count": 82,
   "id": "5c567935-d6a3-4fc7-8de2-56be228b36ec",
   "metadata": {},
   "outputs": [
    {
     "name": "stdout",
     "output_type": "stream",
     "text": [
      "tuple simulator\n"
     ]
    },
    {
     "name": "stdin",
     "output_type": "stream",
     "text": [
      "put your content. it can be described to blank 가 나 다 라 2 3 마 바 사\n"
     ]
    },
    {
     "name": "stdout",
     "output_type": "stream",
     "text": [
      "what property\n"
     ]
    },
    {
     "name": "stdin",
     "output_type": "stream",
     "text": [
      "q = exit, s = slicing, c = count, i = existence: i\n",
      "serch for: 루\n"
     ]
    },
    {
     "name": "stdout",
     "output_type": "stream",
     "text": [
      "False\n",
      "what property\n"
     ]
    },
    {
     "name": "stdin",
     "output_type": "stream",
     "text": [
      "q = exit, s = slicing, c = count, i = existence: i\n",
      "serch for: 가\n"
     ]
    },
    {
     "name": "stdout",
     "output_type": "stream",
     "text": [
      "True\n",
      "what property\n"
     ]
    },
    {
     "name": "stdin",
     "output_type": "stream",
     "text": [
      "q = exit, s = slicing, c = count, i = existence: q\n"
     ]
    },
    {
     "name": "stdout",
     "output_type": "stream",
     "text": [
      "program end\n"
     ]
    }
   ],
   "source": [
    "#tuple prob . 감 잡기 좋음\n",
    "print('tuple simulator')\n",
    "simul_tuple = input('put your content. it can be described to blank')\n",
    "simul_tuple = tuple(simul_tuple.split(' '))\n",
    "status = ' '\n",
    "while status != 'q':\n",
    "    print('what property')\n",
    "    status = input('q = exit, s = slicing, c = count, i = existence:')\n",
    "    if status == 's':\n",
    "        f = int(input('from:'))\n",
    "        t = int(input('to:'))\n",
    "        print(simul_tuple[f:t])\n",
    "    elif status == 'c':\n",
    "        w = input('for what?:')\n",
    "        print('count: {0}'.format(simul_tuple.count(w)))\n",
    "    elif status == 'i':\n",
    "        s = input('serch for:')\n",
    "        print(s in simul_tuple)\n",
    "    elif status == 'q':\n",
    "        break\n",
    "    else:\n",
    "        continue\n",
    "print('program end')"
   ]
  },
  {
   "cell_type": "code",
   "execution_count": 105,
   "id": "a6249000-dba8-4ad0-8494-796b9b2221cf",
   "metadata": {},
   "outputs": [
    {
     "name": "stdin",
     "output_type": "stream",
     "text": [
      "student id: 20220199\n",
      "name: 임재현\n",
      "birth: 030808\n",
      "phone: 01088202023\n",
      "address: 부산시\n"
     ]
    },
    {
     "name": "stdout",
     "output_type": "stream",
     "text": [
      "1 student information {'student id': 20220199, 'name': '임재현', 'birth': '030808', 'phone number': '01088202023', 'address': '부산시'}\n"
     ]
    },
    {
     "name": "stdin",
     "output_type": "stream",
     "text": [
      "student id: 20606521\n",
      "name: 박조국\n",
      "birth: 20010321\n",
      "phone: 01011001100\n",
      "address: 경기도\n"
     ]
    },
    {
     "name": "stdout",
     "output_type": "stream",
     "text": [
      "2 student information {'student id': 20606521, 'name': '박조국', 'birth': '20010321', 'phone number': '01011001100', 'address': '경기도'}\n"
     ]
    }
   ],
   "source": [
    "#dic prob1. 신입생-시발 개 빡세네 풀이 보고 이해. student list 내부에 dictionary를 추가로 집어 넣은 형태\n",
    "student_list = []\n",
    "student_dic = {}\n",
    "n = 1\n",
    "while n<3:\n",
    "   stid = int(input('student id:'))\n",
    "   name = input('name:')\n",
    "   birth = input('birth:')\n",
    "   phone = input('phone:')\n",
    "   address = input('address:')\n",
    "\n",
    "   student_dic = {'student id':stid} #처음에 dictionry를 추가할 때는, 대입연산으로\n",
    "   student_dic['name'] = name #그 이후는, 이런 방식으로 진행해서 dictionray 추가 가능함\n",
    "   student_dic['birth'] = birth\n",
    "   student_dic['phone number'] = phone\n",
    "   student_dic['address'] = address\n",
    "   student_list.append(student_dic)\n",
    "   print(n, 'student information', student_dic) \n",
    "   n += 1\n",
    "\n"
   ]
  },
  {
   "cell_type": "code",
   "execution_count": 106,
   "id": "7421554c-f48b-446b-8058-732d4d80d3d1",
   "metadata": {},
   "outputs": [],
   "source": [
    "#dic prob2. 카드게임 //세트 문제네 못 풂 지금"
   ]
  },
  {
   "cell_type": "code",
   "execution_count": 109,
   "id": "deacc748-9cea-4149-b09b-0599e4038334",
   "metadata": {},
   "outputs": [
    {
     "name": "stdout",
     "output_type": "stream",
     "text": [
      "['gene', 'lex', 'infini', 'lambor', 'linc']\n",
      "['gene', 'lex', 'infini', 'lambor', 'linc', 'merce']\n",
      "['gene', 'infini', 'lambor', 'linc', 'merce']\n",
      "['infini', 'lambor', 'linc']\n"
     ]
    }
   ],
   "source": [
    "#dic prob3. 자료형 전체 연습 문제-1\n",
    "car_list = ['gene', 'lex', 'infini', 'lambor', 'linc']\n",
    "print(car_list)\n",
    "car_list.append('merce')\n",
    "print(car_list)\n",
    "car_list.remove('lex')\n",
    "print(car_list)\n",
    "car_list.append('gene2019')\n",
    "print(car_list[1:4])"
   ]
  },
  {
   "cell_type": "code",
   "execution_count": 110,
   "id": "0f841ffe-40b8-4a82-8d33-ff73e566e27d",
   "metadata": {},
   "outputs": [
    {
     "data": {
      "text/plain": [
       "(11, 16)"
      ]
     },
     "execution_count": 110,
     "metadata": {},
     "output_type": "execute_result"
    }
   ],
   "source": [
    "#dic prob3. 자료형 전체 연습 문제-2\n",
    "date = (11, 16)\n",
    "chan = list(date)\n",
    "date = (chan[0], chan[1])\n",
    "date"
   ]
  },
  {
   "cell_type": "code",
   "execution_count": 111,
   "id": "d7672652-9192-4a70-8b7c-b317b8a9acd4",
   "metadata": {},
   "outputs": [],
   "source": [
    "#dic prob3. 자료형 전체 연습 문제-3 RE GOGO 필기로 코드 함 짜봐야함\n",
    "A = ['회장1', '이사1', '영업1', '영업2', '생산1', '생산2']\n",
    "B = ['회장1', '사외이사1', '영업1', '홍보1'] #COUNT 쓴 이후, 2이상이면 REMOVE사용 가능"
   ]
  },
  {
   "cell_type": "code",
   "execution_count": 116,
   "id": "b9973449-677d-4928-a860-3fbca72a0b3e",
   "metadata": {},
   "outputs": [
    {
     "name": "stdin",
     "output_type": "stream",
     "text": [
      "name: 임재현\n",
      "student id: 20220199\n",
      "exit = q : ㅂ\n",
      "name: 박세진\n",
      "student id: 20239271\n",
      "exit = q : q\n"
     ]
    },
    {
     "name": "stdout",
     "output_type": "stream",
     "text": [
      "[{'name': '박세진', 'student id': '20239271'}, {'name': '박세진', 'student id': '20239271'}]\n"
     ]
    }
   ],
   "source": [
    "##dic prob3. 자료형 전체 연습 문제-4/// 다틀렸는데, 시발 수정 코드가 존나 빡세네\n",
    "students_list=[]\n",
    "students_dic={}\n",
    "lin = ''\n",
    "while lin != 'q':\n",
    "    name = input('name:')\n",
    "    stdid = input('student id:')\n",
    "    lin = input('exit = q :')\n",
    "    name_c = students_list.count(name)\n",
    "    stdid_c = students_list.count(stdid)\n",
    "    if name_c == 0 and stdid_c == 0:\n",
    "        students_dic['name'] = name\n",
    "        students_dic['student id'] = stdid\n",
    "    students_list.append(students_dic)\n",
    "\n",
    "print(students_list)"
   ]
  },
  {
   "cell_type": "code",
   "execution_count": 123,
   "id": "29b7f834-04a6-490e-b420-f4c8d0db08d3",
   "metadata": {},
   "outputs": [
    {
     "name": "stdin",
     "output_type": "stream",
     "text": [
      "일회 조직 입력(5): a b c d e\n",
      "이회 조직 입력(5이하): g h k\n"
     ]
    },
    {
     "name": "stdout",
     "output_type": "stream",
     "text": [
      "['a', 'b', 'c', 'd', 'e'] ['g', 'h', 'k']\n"
     ]
    }
   ],
   "source": [
    "#dic prob3. 자료형 전체 연습 문제-7\n",
    "c1 = input('일회 조직 입력(5):')\n",
    "c1 = c1.split(' ')\n",
    "c2 = input('이회 조직 입력(5이하):')\n",
    "c2 = c2.split(' ')\n",
    "len_c2 = len(c2)\n",
    "all_in = True\n",
    "\n",
    "for i in range(len_c2-1):\n",
    "    if c2[i] not in c1:\n",
    "        all_in = False\n",
    "        break\n",
    "\n",
    "if(all_in): c2.clear()\n",
    "print(c1, c2)"
   ]
  },
  {
   "cell_type": "code",
   "execution_count": 133,
   "id": "f4da1d3d-05d3-4054-80c8-59398e1b3f0a",
   "metadata": {},
   "outputs": [
    {
     "name": "stdout",
     "output_type": "stream",
     "text": [
      "구매 비품: 믹스 ,가격: 6000 ,총 비용: 6000\n",
      "구매 비품: 커피 스틱 ,가격: 3000 ,총 비용: 6000\n"
     ]
    }
   ],
   "source": [
    "#dic prob3. 자료형 전체 연습 문제-8\n",
    "item_dic = {'믹스':[6000, 2], '종이컵':[15000,3],'커피 스틱':[3000,1]}\n",
    "for element in item_dic.keys():\n",
    "    if(item_dic[element][1]<3):\n",
    "        print('구매 비품:', element, ',가격:', item_dic[element][0], ',총 비용:', item_dic[element][0]*(3-item_dic[element][1]))"
   ]
  },
  {
   "cell_type": "code",
   "execution_count": 137,
   "id": "000e6b1f-5270-4d3e-ae73-6126d73b155a",
   "metadata": {},
   "outputs": [
    {
     "name": "stdout",
     "output_type": "stream",
     "text": [
      "믹스\n",
      "종이컵\n",
      "커피 스틱\n"
     ]
    }
   ],
   "source": [
    "#dic prob3. 자료형 전체 연습 문제-9\n",
    "for element in item_dic.keys():\n",
    "    print(element)"
   ]
  },
  {
   "cell_type": "code",
   "execution_count": null,
   "id": "777200bd-6682-4cbe-936d-389ba14839e3",
   "metadata": {},
   "outputs": [],
   "source": []
  }
 ],
 "metadata": {
  "kernelspec": {
   "display_name": "Python 3 (ipykernel)",
   "language": "python",
   "name": "python3"
  },
  "language_info": {
   "codemirror_mode": {
    "name": "ipython",
    "version": 3
   },
   "file_extension": ".py",
   "mimetype": "text/x-python",
   "name": "python",
   "nbconvert_exporter": "python",
   "pygments_lexer": "ipython3",
   "version": "3.13.5"
  }
 },
 "nbformat": 4,
 "nbformat_minor": 5
}
