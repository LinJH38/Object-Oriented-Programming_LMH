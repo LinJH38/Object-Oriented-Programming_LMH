{
 "cells": [
  {
   "cell_type": "code",
   "execution_count": 2,
   "id": "ba95ee24-0442-489b-bb4f-193e455ba252",
   "metadata": {},
   "outputs": [
    {
     "data": {
      "text/plain": [
       "str"
      ]
     },
     "execution_count": 2,
     "metadata": {},
     "output_type": "execute_result"
    }
   ],
   "source": [
    "a ='python12'\n",
    "type(a)"
   ]
  },
  {
   "cell_type": "code",
   "execution_count": 3,
   "id": "2edb945c-97de-4389-86cb-c0ab0661cc02",
   "metadata": {},
   "outputs": [
    {
     "name": "stdout",
     "output_type": "stream",
     "text": [
      "\n",
      "print\n",
      "multiple\n",
      "line\n",
      "\n"
     ]
    }
   ],
   "source": [
    "a='''\n",
    "print\n",
    "multiple\n",
    "line\n",
    "'''\n",
    "print(a)"
   ]
  },
  {
   "cell_type": "code",
   "execution_count": 5,
   "id": "1cef9d8f-4cae-425c-a1e4-4fc9b7f0f478",
   "metadata": {},
   "outputs": [
    {
     "name": "stdout",
     "output_type": "stream",
     "text": [
      "12print\n"
     ]
    },
    {
     "data": {
      "text/plain": [
       "'12print'"
      ]
     },
     "execution_count": 5,
     "metadata": {},
     "output_type": "execute_result"
    }
   ],
   "source": [
    "a=12\n",
    "b='print'\n",
    "print(str(a)+b)\n",
    "str(a)+b"
   ]
  },
  {
   "cell_type": "code",
   "execution_count": 9,
   "id": "b93f3e91-4793-46e8-b486-03165b713b4a",
   "metadata": {},
   "outputs": [
    {
     "name": "stdout",
     "output_type": "stream",
     "text": [
      "sn\n"
     ]
    }
   ],
   "source": [
    "a = 'string in python'\n",
    "print(a[0]+a[-1])"
   ]
  },
  {
   "cell_type": "code",
   "execution_count": 13,
   "id": "887eb9a8-5f25-4236-8a26-4138a40b2be3",
   "metadata": {},
   "outputs": [
    {
     "data": {
      "text/plain": [
       "'pytho'"
      ]
     },
     "execution_count": 13,
     "metadata": {},
     "output_type": "execute_result"
    }
   ],
   "source": [
    "a[0:6]\n",
    "a[-6:-1]"
   ]
  },
  {
   "cell_type": "code",
   "execution_count": 1,
   "id": "5bbe62f4-a4a7-4a4f-9ca4-f400f826d5d0",
   "metadata": {},
   "outputs": [
    {
     "name": "stdin",
     "output_type": "stream",
     "text": [
      "type a sentence: (if you type c and exit 온점입니다.\n"
     ]
    },
    {
     "name": "stdout",
     "output_type": "stream",
     "text": [
      "온점을 잘 입력하셨습니다.\n"
     ]
    },
    {
     "name": "stdin",
     "output_type": "stream",
     "text": [
      "type a sentence: (if you type c and exit 감사합니다\n"
     ]
    },
    {
     "name": "stdout",
     "output_type": "stream",
     "text": [
      "온점을 입력하세요.\n"
     ]
    },
    {
     "name": "stdin",
     "output_type": "stream",
     "text": [
      "type a sentence: (if you type c and exit q\n"
     ]
    }
   ],
   "source": [
    "#acronym generator 어렵네\n",
    "p = ' '\n",
    "while True:\n",
    "    p = list(input('type a sentence: (if you type c and exit'))\n",
    "    if(p[0] == 'q'):\n",
    "        break\n",
    "    n = p[len(p)-1]\n",
    "    if(n != '.'):\n",
    "        print('온점을 입력하세요.')\n",
    "    else:\n",
    "        print('온점을 잘 입력하셨습니다.')"
   ]
  },
  {
   "cell_type": "code",
   "execution_count": 17,
   "id": "d41e4ae7-ac7b-405d-af7b-e1415740d717",
   "metadata": {},
   "outputs": [
    {
     "data": {
      "text/plain": [
       "['arc', 'bug', 'can', 'dream', 'elephant']"
      ]
     },
     "execution_count": 17,
     "metadata": {},
     "output_type": "execute_result"
    }
   ],
   "source": [
    "a = 'arc bug can dream elephant'\n",
    "b=a.split(\" \")\n",
    "b"
   ]
  },
  {
   "cell_type": "code",
   "execution_count": 29,
   "id": "eb542c58-046a-4dda-b994-df32f29b8a2c",
   "metadata": {},
   "outputs": [
    {
     "name": "stdout",
     "output_type": "stream",
     "text": [
      "Brc bug cbn drebm elephbnt\n"
     ]
    }
   ],
   "source": [
    "b = a.replace(\"a\",\"b\")\n",
    "c = b.capitalize()\n",
    "print(c)"
   ]
  },
  {
   "cell_type": "code",
   "execution_count": 33,
   "id": "381f665b-eb21-47de-908c-22e524013714",
   "metadata": {},
   "outputs": [
    {
     "name": "stdout",
     "output_type": "stream",
     "text": [
      "5\n"
     ]
    }
   ],
   "source": [
    "h = c.upper()\n",
    "print(h.count('B'))"
   ]
  },
  {
   "cell_type": "code",
   "execution_count": 40,
   "id": "eb49a9bb-c880-4020-bd5e-1cdafa1c6a36",
   "metadata": {},
   "outputs": [
    {
     "data": {
      "text/plain": [
       "'super rookie'"
      ]
     },
     "execution_count": 40,
     "metadata": {},
     "output_type": "execute_result"
    }
   ],
   "source": [
    "a = '    super rookie'\n",
    "a.strip()"
   ]
  },
  {
   "cell_type": "code",
   "execution_count": 41,
   "id": "eb66fc49-348e-4d8a-aea0-b8b280592980",
   "metadata": {},
   "outputs": [
    {
     "name": "stdout",
     "output_type": "stream",
     "text": [
      "i will give up at 15pm\n"
     ]
    }
   ],
   "source": [
    "print('i will give up at %dpm' % 15)"
   ]
  },
  {
   "cell_type": "code",
   "execution_count": 42,
   "id": "cd884c6a-d421-45dd-bc96-2ebfca1724ea",
   "metadata": {},
   "outputs": [
    {
     "name": "stdin",
     "output_type": "stream",
     "text": [
      "your name: lin za\n",
      "your height: 174.5\n"
     ]
    },
    {
     "name": "stdout",
     "output_type": "stream",
     "text": [
      "hello, lin za, your weight is 74.5kg\n"
     ]
    }
   ],
   "source": [
    "name = input('your name:')\n",
    "height = float(input('your height:'))\n",
    "print(\"hello, {0}, your weight is {1}kg\".format(name,str(height-100.0)))"
   ]
  },
  {
   "cell_type": "code",
   "execution_count": 45,
   "id": "082f4fb8-e74e-4067-836a-6778e5a809bc",
   "metadata": {},
   "outputs": [
    {
     "name": "stdin",
     "output_type": "stream",
     "text": [
      "your name: ll\n",
      "your number: 23232323\n"
     ]
    },
    {
     "name": "stdout",
     "output_type": "stream",
     "text": [
      "hello, ll, your number is 23232323\n"
     ]
    }
   ],
   "source": [
    "name = input('your name:')\n",
    "number = input('your number:')\n",
    "number = number.replace(' ', \"-\")\n",
    "print(\"hello, {0}, your number is {1}\".format(name,number))"
   ]
  },
  {
   "cell_type": "code",
   "execution_count": 7,
   "id": "e2fcaf4c-2505-45f0-94a2-d9176c5d46b3",
   "metadata": {},
   "outputs": [
    {
     "name": "stdin",
     "output_type": "stream",
     "text": [
      "type a sentence: (if you type c and exit 별걸 다 줄이네\n"
     ]
    },
    {
     "name": "stdout",
     "output_type": "stream",
     "text": [
      "별\n",
      "다\n",
      "줄\n"
     ]
    },
    {
     "name": "stdin",
     "output_type": "stream",
     "text": [
      "type a sentence: (if you type c and exit 할말은 많지만 하지 않는다.\n"
     ]
    },
    {
     "name": "stdout",
     "output_type": "stream",
     "text": [
      "할\n",
      "많\n",
      "하\n",
      "않\n"
     ]
    },
    {
     "name": "stdin",
     "output_type": "stream",
     "text": [
      "type a sentence: (if you type c and exit q\n"
     ]
    }
   ],
   "source": [
    "#prob. 줄임말 생성기\n",
    "while True:\n",
    "    p = list(input('type a sentence: (if you type c and exit'))\n",
    "    if(p[0] == 'q'):\n",
    "        break\n",
    "    print(p[0])\n",
    "    for i in range(len(p)-1):\n",
    "        if(p[i] == ' '):\n",
    "            print(p[i+1])"
   ]
  },
  {
   "cell_type": "code",
   "execution_count": 8,
   "id": "ad29ec33-1ec5-422b-9706-917814b79a5e",
   "metadata": {},
   "outputs": [
    {
     "name": "stdin",
     "output_type": "stream",
     "text": [
      "type the word: FINISHED FILES ARE THE RESULT OF YEARS OF SCIENTIFIC STUDY COMBINED WITH THE EXPERIENCE OF YEARS.\n",
      "search latter: F\n"
     ]
    },
    {
     "name": "stdout",
     "output_type": "stream",
     "text": [
      "F 0 / 6\n",
      "F 9 / 6\n",
      "F 31 / 6\n",
      "F 40 / 6\n",
      "F 49 / 6\n",
      "F 89 / 6\n"
     ]
    }
   ],
   "source": [
    "#prob. 문자열 조작 명렁어 문제\n",
    "string = input('type the word:')\n",
    "latter = input('search latter:')\n",
    "f = string.find(latter) #해당 문자가 존재하는 index\n",
    "su = string.count(latter) #해당 문자의 개수\n",
    "while f != -1:\n",
    "    print(latter, f+1, '/', su)\n",
    "    f = string.find(latter, f+1) #find(latter, 참조 시작 인덱스): 참조 시작 인덱스를 0이 아닌 (이전 인덱스+1)으로 활용"
   ]
  },
  {
   "cell_type": "code",
   "execution_count": 9,
   "id": "7b3b3677-09af-4d7b-afb9-71c48ea07577",
   "metadata": {},
   "outputs": [
    {
     "name": "stdin",
     "output_type": "stream",
     "text": [
      "type a sentence: (if you type c and exit 무궁화 꽃이 피었습니다.\n"
     ]
    },
    {
     "name": "stdout",
     "output_type": "stream",
     "text": [
      "3 어절\n"
     ]
    },
    {
     "name": "stdin",
     "output_type": "stream",
     "text": [
      "type a sentence: (if you type c and exit 어절은 끊어읽기와 띄어쓰기의 단위입니다.\n"
     ]
    },
    {
     "name": "stdout",
     "output_type": "stream",
     "text": [
      "4 어절\n"
     ]
    },
    {
     "name": "stdin",
     "output_type": "stream",
     "text": [
      "type a sentence: (if you type c and exit q\n"
     ]
    }
   ],
   "source": [
    "#prob. 어절 개수 세기\n",
    "while True:\n",
    "    p = list(input('type a sentence: (if you type c and exit'))\n",
    "    if(p[0] == 'q'):\n",
    "        break\n",
    "    num = p.count(' ')+1\n",
    "    print(num, '어절')"
   ]
  },
  {
   "cell_type": "code",
   "execution_count": 14,
   "id": "58220d96-434f-4b32-92a2-70ec77cf4a0b",
   "metadata": {},
   "outputs": [
    {
     "name": "stdin",
     "output_type": "stream",
     "text": [
      "data input:  jacky3 19597102번 chicago\n",
      "data input:  jacky 1957102 chicago\n"
     ]
    },
    {
     "name": "stdout",
     "output_type": "stream",
     "text": [
      "JACKY 1957102 Chicago\n"
     ]
    }
   ],
   "source": [
    "#prob. 학적 자료 간편 입력기\n",
    "name = ''\n",
    "i = ' '\n",
    "while (name.isalpha() == False and i.isdigit() == False):\n",
    "    data = input('data input: ')\n",
    "    data = data.split(' ')\n",
    "    name = data[0]\n",
    "    i = data[1]\n",
    "    ad = data[2]\n",
    "if(name.isupper() == False):\n",
    "    name = name.upper()\n",
    "ad = ad.capitalize()\n",
    "print(name, i, ad)"
   ]
  },
  {
   "cell_type": "code",
   "execution_count": 16,
   "id": "c4a85b0c-daa9-4080-a500-ea509ab6c5f5",
   "metadata": {},
   "outputs": [
    {
     "name": "stdin",
     "output_type": "stream",
     "text": [
      "order: 천재\n"
     ]
    },
    {
     "name": "stdout",
     "output_type": "stream",
     "text": [
      "너도 천재야.\n"
     ]
    },
    {
     "name": "stdin",
     "output_type": "stream",
     "text": [
      "order: 바보\n"
     ]
    },
    {
     "name": "stdout",
     "output_type": "stream",
     "text": [
      "좆까 병신아\n"
     ]
    },
    {
     "name": "stdin",
     "output_type": "stream",
     "text": [
      "order: 메뉴\n"
     ]
    },
    {
     "name": "stdout",
     "output_type": "stream",
     "text": [
      "메뉴를 실행\n"
     ]
    },
    {
     "name": "stdin",
     "output_type": "stream",
     "text": [
      "order: 종료\n"
     ]
    },
    {
     "name": "stdout",
     "output_type": "stream",
     "text": [
      "종료합니다.\n"
     ]
    }
   ],
   "source": [
    "#prob. 사용자와 대화하는 컴퓨터\n",
    "while True:\n",
    "    order = input('order:')\n",
    "    if('천재' in order):\n",
    "        print('너도 천재야.')\n",
    "    elif('바보' in order):\n",
    "        print('좆까 병신아')\n",
    "    elif('메뉴' in order):\n",
    "        print('메뉴를 실행')\n",
    "    elif('종료' in order):\n",
    "        print('종료합니다.')\n",
    "        break\n",
    "    else:\n",
    "        print('너도')"
   ]
  },
  {
   "cell_type": "code",
   "execution_count": 19,
   "id": "9e71602c-4254-4040-a64a-85b5f7d95179",
   "metadata": {},
   "outputs": [
    {
     "name": "stdin",
     "output_type": "stream",
     "text": [
      "winner:  바르셀로나\n",
      "losser:  인테르\n",
      "score:  2:0\n",
      "game(1, 2, 3): 1\n",
      "mvp: 리만 야말\n"
     ]
    },
    {
     "name": "stdout",
     "output_type": "stream",
     "text": [
      "오늘 바르셀로나과 인테르의 게임. 바르셀로나팀이 2:0로 승리. 오늘 승부는 불꽃 튀는였다. mvp는 리만 야말였다.\n"
     ]
    }
   ],
   "source": [
    "#prob. 문자열 포맷팅 문제\n",
    "win = input('winner: ')\n",
    "lose = input('losser: ')\n",
    "score = input('score: ')\n",
    "game = int(input('game(1, 2, 3):'))\n",
    "mvp = input('mvp:')\n",
    "\n",
    "if(game ==1):\n",
    "    sort = '불꽃 튀는'\n",
    "elif(game ==2):\n",
    "    sort = '단조로운'\n",
    "elif(game ==3):\n",
    "    sort == '일방적인'\n",
    "\n",
    "print(f\"오늘 {win}과 {lose}의 게임. {win}팀이 {score}로 승리. 오늘 승부는 {sort}였다. mvp는 {mvp}였다.\")"
   ]
  },
  {
   "cell_type": "code",
   "execution_count": 21,
   "id": "92da0f68-2b11-4a00-95bf-742731fbb595",
   "metadata": {},
   "outputs": [
    {
     "name": "stdin",
     "output_type": "stream",
     "text": [
      "how many? 5\n"
     ]
    },
    {
     "name": "stdout",
     "output_type": "stream",
     "text": [
      "1 is running.\n",
      "2 is running.\n",
      "3 is running.\n",
      "4 is running.\n",
      "5 is running.\n"
     ]
    }
   ],
   "source": [
    "#prob. 반복문과 결합하기\n",
    "n = int(input('how many?'))\n",
    "for i in range(n):\n",
    "    print('{0} is running.'.format(i+1))"
   ]
  },
  {
   "cell_type": "code",
   "execution_count": 24,
   "id": "79d56bc6-0f78-4984-a5a7-dc053f9cfe28",
   "metadata": {},
   "outputs": [
    {
     "name": "stdin",
     "output_type": "stream",
     "text": [
      "password:  sdsadsafasf\n"
     ]
    },
    {
     "name": "stdout",
     "output_type": "stream",
     "text": [
      "combination of alpha and digit\n"
     ]
    },
    {
     "name": "stdin",
     "output_type": "stream",
     "text": [
      "password:  232133\n"
     ]
    },
    {
     "name": "stdout",
     "output_type": "stream",
     "text": [
      "more than 8\n"
     ]
    },
    {
     "name": "stdin",
     "output_type": "stream",
     "text": [
      "password:  sakdjklsa2\n"
     ]
    },
    {
     "name": "stdout",
     "output_type": "stream",
     "text": [
      "password is sakdjklsa2\n"
     ]
    }
   ],
   "source": [
    "#prob. 비밀번호 조건\n",
    "while True:\n",
    "    pin = input('password: ')\n",
    "    if(len(pin)<8):\n",
    "        print('more than 8')\n",
    "    elif(pin.isalpha() == True or pin.isdigit() == True):\n",
    "        print('combination of alpha and digit')\n",
    "    else:\n",
    "        break\n",
    "print(f\"password is {pin}\")"
   ]
  },
  {
   "cell_type": "code",
   "execution_count": 35,
   "id": "3bcee723-3946-4186-a699-62d43bbef570",
   "metadata": {},
   "outputs": [
    {
     "name": "stdin",
     "output_type": "stream",
     "text": [
      "before:  sdsd\n",
      "encylcopy key: 2\n"
     ]
    },
    {
     "name": "stdout",
     "output_type": "stream",
     "text": [
      "['s', 'd', 's', 'd']\n",
      "['u', 'f', 'u', 'f']\n"
     ]
    }
   ],
   "source": [
    "#prob. 암호 만들기 <----빡셈\n",
    "before = list(input('before: '))\n",
    "key = int(input('encylcopy key:'))\n",
    "after =[]\n",
    "for i in range(len(before)):\n",
    "    if before[i].isalpha():\n",
    "        after.append(chr(ord(before[i])+key))\n",
    "print(before)\n",
    "print(after)"
   ]
  },
  {
   "cell_type": "code",
   "execution_count": null,
   "id": "b23eb248-c9d8-4c69-95ea-e2c708d7420c",
   "metadata": {},
   "outputs": [],
   "source": [
    "#prob. 주민등록번호 정상 판별\n",
    "#걍 계산이 시바 뭐라는 거고"
   ]
  }
 ],
 "metadata": {
  "kernelspec": {
   "display_name": "Python 3 (ipykernel)",
   "language": "python",
   "name": "python3"
  },
  "language_info": {
   "codemirror_mode": {
    "name": "ipython",
    "version": 3
   },
   "file_extension": ".py",
   "mimetype": "text/x-python",
   "name": "python",
   "nbconvert_exporter": "python",
   "pygments_lexer": "ipython3",
   "version": "3.13.5"
  }
 },
 "nbformat": 4,
 "nbformat_minor": 5
}
