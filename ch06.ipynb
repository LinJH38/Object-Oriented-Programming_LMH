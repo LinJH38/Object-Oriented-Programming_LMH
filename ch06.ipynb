{
 "cells": [
  {
   "cell_type": "code",
   "execution_count": 2,
   "id": "ba95ee24-0442-489b-bb4f-193e455ba252",
   "metadata": {},
   "outputs": [
    {
     "data": {
      "text/plain": [
       "str"
      ]
     },
     "execution_count": 2,
     "metadata": {},
     "output_type": "execute_result"
    }
   ],
   "source": [
    "a ='python12'\n",
    "type(a)"
   ]
  },
  {
   "cell_type": "code",
   "execution_count": 3,
   "id": "2edb945c-97de-4389-86cb-c0ab0661cc02",
   "metadata": {},
   "outputs": [
    {
     "name": "stdout",
     "output_type": "stream",
     "text": [
      "\n",
      "print\n",
      "multiple\n",
      "line\n",
      "\n"
     ]
    }
   ],
   "source": [
    "a='''\n",
    "print\n",
    "multiple\n",
    "line\n",
    "'''\n",
    "print(a)"
   ]
  },
  {
   "cell_type": "code",
   "execution_count": 5,
   "id": "1cef9d8f-4cae-425c-a1e4-4fc9b7f0f478",
   "metadata": {},
   "outputs": [
    {
     "name": "stdout",
     "output_type": "stream",
     "text": [
      "12print\n"
     ]
    },
    {
     "data": {
      "text/plain": [
       "'12print'"
      ]
     },
     "execution_count": 5,
     "metadata": {},
     "output_type": "execute_result"
    }
   ],
   "source": [
    "a=12\n",
    "b='print'\n",
    "print(str(a)+b)\n",
    "str(a)+b"
   ]
  },
  {
   "cell_type": "code",
   "execution_count": 9,
   "id": "b93f3e91-4793-46e8-b486-03165b713b4a",
   "metadata": {},
   "outputs": [
    {
     "name": "stdout",
     "output_type": "stream",
     "text": [
      "sn\n"
     ]
    }
   ],
   "source": [
    "a = 'string in python'\n",
    "print(a[0]+a[-1])"
   ]
  },
  {
   "cell_type": "code",
   "execution_count": 13,
   "id": "887eb9a8-5f25-4236-8a26-4138a40b2be3",
   "metadata": {},
   "outputs": [
    {
     "data": {
      "text/plain": [
       "'pytho'"
      ]
     },
     "execution_count": 13,
     "metadata": {},
     "output_type": "execute_result"
    }
   ],
   "source": [
    "a[0:6]\n",
    "a[-6:-1]"
   ]
  },
  {
   "cell_type": "code",
   "execution_count": null,
   "id": "5bbe62f4-a4a7-4a4f-9ca4-f400f826d5d0",
   "metadata": {},
   "outputs": [],
   "source": [
    "#acronym generator 어렵네\n",
    "p = ' '\n",
    "while p!='q':\n",
    "    p = input('type a sentence: (if you type c and exit')\n",
    "    "
   ]
  },
  {
   "cell_type": "code",
   "execution_count": 17,
   "id": "d41e4ae7-ac7b-405d-af7b-e1415740d717",
   "metadata": {},
   "outputs": [
    {
     "data": {
      "text/plain": [
       "['arc', 'bug', 'can', 'dream', 'elephant']"
      ]
     },
     "execution_count": 17,
     "metadata": {},
     "output_type": "execute_result"
    }
   ],
   "source": [
    "a = 'arc bug can dream elephant'\n",
    "b=a.split(\" \")\n",
    "b"
   ]
  },
  {
   "cell_type": "code",
   "execution_count": 29,
   "id": "eb542c58-046a-4dda-b994-df32f29b8a2c",
   "metadata": {},
   "outputs": [
    {
     "name": "stdout",
     "output_type": "stream",
     "text": [
      "Brc bug cbn drebm elephbnt\n"
     ]
    }
   ],
   "source": [
    "b = a.replace(\"a\",\"b\")\n",
    "c = b.capitalize()\n",
    "print(c)"
   ]
  },
  {
   "cell_type": "code",
   "execution_count": 33,
   "id": "381f665b-eb21-47de-908c-22e524013714",
   "metadata": {},
   "outputs": [
    {
     "name": "stdout",
     "output_type": "stream",
     "text": [
      "5\n"
     ]
    }
   ],
   "source": [
    "h = c.upper()\n",
    "print(h.count('B'))"
   ]
  },
  {
   "cell_type": "code",
   "execution_count": 40,
   "id": "eb49a9bb-c880-4020-bd5e-1cdafa1c6a36",
   "metadata": {},
   "outputs": [
    {
     "data": {
      "text/plain": [
       "'super rookie'"
      ]
     },
     "execution_count": 40,
     "metadata": {},
     "output_type": "execute_result"
    }
   ],
   "source": [
    "a = '    super rookie'\n",
    "a.strip()"
   ]
  },
  {
   "cell_type": "code",
   "execution_count": 41,
   "id": "eb66fc49-348e-4d8a-aea0-b8b280592980",
   "metadata": {},
   "outputs": [
    {
     "name": "stdout",
     "output_type": "stream",
     "text": [
      "i will give up at 15pm\n"
     ]
    }
   ],
   "source": [
    "print('i will give up at %dpm' % 15)"
   ]
  },
  {
   "cell_type": "code",
   "execution_count": 42,
   "id": "cd884c6a-d421-45dd-bc96-2ebfca1724ea",
   "metadata": {},
   "outputs": [
    {
     "name": "stdin",
     "output_type": "stream",
     "text": [
      "your name: lin za\n",
      "your height: 174.5\n"
     ]
    },
    {
     "name": "stdout",
     "output_type": "stream",
     "text": [
      "hello, lin za, your weight is 74.5kg\n"
     ]
    }
   ],
   "source": [
    "name = input('your name:')\n",
    "height = float(input('your height:'))\n",
    "print(\"hello, {0}, your weight is {1}kg\".format(name,str(height-100.0)))"
   ]
  },
  {
   "cell_type": "code",
   "execution_count": 45,
   "id": "082f4fb8-e74e-4067-836a-6778e5a809bc",
   "metadata": {},
   "outputs": [
    {
     "name": "stdin",
     "output_type": "stream",
     "text": [
      "your name: ll\n",
      "your number: 23232323\n"
     ]
    },
    {
     "name": "stdout",
     "output_type": "stream",
     "text": [
      "hello, ll, your number is 23232323\n"
     ]
    }
   ],
   "source": [
    "name = input('your name:')\n",
    "number = input('your number:')\n",
    "number = number.replace(' ', \"-\")\n",
    "print(\"hello, {0}, your number is {1}\".format(name,number))"
   ]
  },
  {
   "cell_type": "code",
   "execution_count": null,
   "id": "e2fcaf4c-2505-45f0-94a2-d9176c5d46b3",
   "metadata": {},
   "outputs": [],
   "source": []
  }
 ],
 "metadata": {
  "kernelspec": {
   "display_name": "Python 3 (ipykernel)",
   "language": "python",
   "name": "python3"
  },
  "language_info": {
   "codemirror_mode": {
    "name": "ipython",
    "version": 3
   },
   "file_extension": ".py",
   "mimetype": "text/x-python",
   "name": "python",
   "nbconvert_exporter": "python",
   "pygments_lexer": "ipython3",
   "version": "3.13.5"
  }
 },
 "nbformat": 4,
 "nbformat_minor": 5
}
